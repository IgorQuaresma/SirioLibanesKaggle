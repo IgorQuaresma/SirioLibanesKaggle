{
  "nbformat": 4,
  "nbformat_minor": 0,
  "metadata": {
    "colab": {
      "name": "Bootcamp_PF_MachineLearningModel.ipynb",
      "provenance": [],
      "collapsed_sections": [],
      "authorship_tag": "ABX9TyM+IzURkpx2lrW9SDABQhwN",
      "include_colab_link": true
    },
    "kernelspec": {
      "name": "python3",
      "display_name": "Python 3"
    },
    "language_info": {
      "name": "python"
    }
  },
  "cells": [
    {
      "cell_type": "markdown",
      "metadata": {
        "id": "view-in-github",
        "colab_type": "text"
      },
      "source": [
        "<a href=\"https://colab.research.google.com/github/IgorQuaresma/SirioLibanesKaggle/blob/main/Notebooks/Bootcamp_PF_MachineLearningModel.ipynb\" target=\"_parent\"><img src=\"https://colab.research.google.com/assets/colab-badge.svg\" alt=\"Open In Colab\"/></a>"
      ]
    },
    {
      "cell_type": "markdown",
      "metadata": {
        "id": "yvjWETGZwkgk"
      },
      "source": [
        "#Machine Learning"
      ]
    },
    {
      "cell_type": "markdown",
      "metadata": {
        "id": "VXv-Rplzw8G5"
      },
      "source": [
        "## Introduction"
      ]
    },
    {
      "cell_type": "markdown",
      "metadata": {
        "id": "9VqM2bVzxBro"
      },
      "source": [
        "This notebook is the part 3 of 3 notebooks that composes the whole project. The notebook is going to use the data from the pre-proccessing step (part 1) and insights from the exploratory analysis that was done in part 2."
      ]
    },
    {
      "cell_type": "markdown",
      "metadata": {
        "id": "C5XkzkLzx_j-"
      },
      "source": [
        "## Importing the libs"
      ]
    },
    {
      "cell_type": "code",
      "metadata": {
        "colab": {
          "base_uri": "https://localhost:8080/"
        },
        "id": "yfgHg84SeMsU",
        "outputId": "7fbc2550-2653-4728-a63e-937fdeed0a62"
      },
      "source": [
        "!pip install yellowbrick"
      ],
      "execution_count": 1,
      "outputs": [
        {
          "output_type": "stream",
          "name": "stdout",
          "text": [
            "Requirement already satisfied: yellowbrick in /usr/local/lib/python3.7/dist-packages (0.9.1)\n",
            "Requirement already satisfied: scipy>=1.0.0 in /usr/local/lib/python3.7/dist-packages (from yellowbrick) (1.4.1)\n",
            "Requirement already satisfied: scikit-learn>=0.20 in /usr/local/lib/python3.7/dist-packages (from yellowbrick) (0.22.2.post1)\n",
            "Requirement already satisfied: numpy>=1.13.0 in /usr/local/lib/python3.7/dist-packages (from yellowbrick) (1.19.5)\n",
            "Requirement already satisfied: cycler>=0.10.0 in /usr/local/lib/python3.7/dist-packages (from yellowbrick) (0.10.0)\n",
            "Requirement already satisfied: matplotlib!=3.0.0,>=1.5.1 in /usr/local/lib/python3.7/dist-packages (from yellowbrick) (3.2.2)\n",
            "Requirement already satisfied: six in /usr/local/lib/python3.7/dist-packages (from cycler>=0.10.0->yellowbrick) (1.15.0)\n",
            "Requirement already satisfied: pyparsing!=2.0.4,!=2.1.2,!=2.1.6,>=2.0.1 in /usr/local/lib/python3.7/dist-packages (from matplotlib!=3.0.0,>=1.5.1->yellowbrick) (2.4.7)\n",
            "Requirement already satisfied: kiwisolver>=1.0.1 in /usr/local/lib/python3.7/dist-packages (from matplotlib!=3.0.0,>=1.5.1->yellowbrick) (1.3.1)\n",
            "Requirement already satisfied: python-dateutil>=2.1 in /usr/local/lib/python3.7/dist-packages (from matplotlib!=3.0.0,>=1.5.1->yellowbrick) (2.8.2)\n",
            "Requirement already satisfied: joblib>=0.11 in /usr/local/lib/python3.7/dist-packages (from scikit-learn>=0.20->yellowbrick) (1.0.1)\n"
          ]
        }
      ]
    },
    {
      "cell_type": "code",
      "metadata": {
        "colab": {
          "base_uri": "https://localhost:8080/"
        },
        "id": "TmwMzLI-vmRk",
        "outputId": "e58aa446-bb85-43c6-b216-c928413918d5"
      },
      "source": [
        "import pandas as pd\n",
        "import matplotlib.pyplot as plt\n",
        "from matplotlib import transforms\n",
        "import numpy as np\n",
        "import seaborn as sns\n",
        "import sklearn as skl\n",
        "\n",
        "from sklearn.metrics import plot_confusion_matrix\n",
        "from sklearn.metrics import classification_report\n",
        "from sklearn.metrics import accuracy_score\n",
        "from sklearn.metrics import roc_auc_score\n",
        "from sklearn.metrics import roc_curve\n",
        "from sklearn.metrics import plot_roc_curve\n",
        "from sklearn.model_selection import train_test_split\n",
        "from sklearn.model_selection import GridSearchCV\n",
        "from sklearn.model_selection import cross_validate\n",
        "from sklearn.model_selection import RepeatedStratifiedKFold\n",
        "from sklearn.discriminant_analysis import LinearDiscriminantAnalysis\n",
        "from sklearn.tree import DecisionTreeClassifier\n",
        "from sklearn.linear_model import LogisticRegression\n",
        "from sklearn.ensemble import RandomForestClassifier\n",
        "from sklearn.neighbors import NearestCentroid\n",
        "from yellowbrick.features import FeatureImportances \n",
        "\n",
        "import warnings\n",
        "warnings.filterwarnings('ignore')"
      ],
      "execution_count": 2,
      "outputs": [
        {
          "output_type": "stream",
          "name": "stderr",
          "text": [
            "/usr/local/lib/python3.7/dist-packages/sklearn/utils/deprecation.py:144: FutureWarning: The sklearn.metrics.classification module is  deprecated in version 0.22 and will be removed in version 0.24. The corresponding classes / functions should instead be imported from sklearn.metrics. Anything that cannot be imported from sklearn.metrics is now part of the private API.\n",
            "  warnings.warn(message, FutureWarning)\n"
          ]
        }
      ]
    },
    {
      "cell_type": "markdown",
      "metadata": {
        "id": "Nmf2Ei3zIsv-"
      },
      "source": [
        "## Functions"
      ]
    },
    {
      "cell_type": "code",
      "metadata": {
        "id": "iuDzD9T7yaX5"
      },
      "source": [
        "def separate_train_test(data):\n",
        "  '''separates the train and test data '''\n",
        "  np.random.seed(1234525)\n",
        "  x_columns = data.columns \n",
        "  y = data['ICU']\n",
        "  x = data[x_columns].drop(['ICU','WINDOW'],axis=1)\n",
        "  x_train,x_test,y_train,y_test = train_test_split(x, y, stratify = y, test_size=0.2)\n",
        "  return x_train,x_test,y_train,y_test"
      ],
      "execution_count": 20,
      "outputs": []
    },
    {
      "cell_type": "code",
      "metadata": {
        "id": "xI4hTagJD7N0"
      },
      "source": [
        "def accuracy(data, model, name):\n",
        "  '''returns the value of accuracy'''\n",
        "  model = model\n",
        "  x_train,x_test,y_train,y_test = separate_train_test(data)\n",
        "  model.fit(x_train,y_train)\n",
        "  predict = model.predict(x_test)\n",
        "\n",
        "  print(f'The accuracy of the {name} model is: {(accuracy_score(y_test, predict))*100 :.2f}% ')"
      ],
      "execution_count": 21,
      "outputs": []
    },
    {
      "cell_type": "code",
      "metadata": {
        "id": "3JQZrG7gE9h3"
      },
      "source": [
        "def run_model(data, model):\n",
        "  '''Returns the Classication Report with the following metrics: recall,f1-score e support'''\n",
        "  #separating train and test data\n",
        "  x_train, x_test, y_train, y_test = separate_train_test(data)\n",
        "\n",
        "  #creating the model\n",
        "  model.fit(x_train,y_train)\n",
        "  predict = model.predict(x_test)\n",
        "  proba_predict = model.predict_proba(x_test)\n",
        "  \n",
        "  #return the auc\n",
        "  auc = roc_auc_score(y_test,proba_predict[:,1])\n",
        "  print(f'AUC = {auc}')\n",
        "  print(\"\\nClassification Report\")\n",
        "  print(classification_report(y_test, predict))"
      ],
      "execution_count": 22,
      "outputs": []
    },
    {
      "cell_type": "code",
      "metadata": {
        "id": "Vj9ewvPjGHqz"
      },
      "source": [
        "def run_model_cv(model, data, n_splits, n_repeats):\n",
        "  '''Returns the mean test and train auc of an specific model'''\n",
        "  #separating train and test data\n",
        "  np.random.seed(1234525) \n",
        "  data = data.sample(frac = 1).reset_index(drop = True) \n",
        "  x_columns = data.columns \n",
        "  y = data['ICU']\n",
        "  x = data[x_columns].drop(['ICU','WINDOW'], axis=1)\n",
        "\n",
        "  #creating the model\n",
        "  cv = RepeatedStratifiedKFold(n_splits = n_splits, n_repeats=n_repeats)\n",
        "  results = cross_validate(model,x,y,cv=cv,scoring = 'roc_auc', return_train_score=True) \n",
        "\n",
        "  #return the auc\n",
        "  mean_auc = np.mean(results['test_score']) \n",
        "  mean_auc_train = np.mean(results['train_score']) \n",
        "  auc_std = np.std(results['test_score'])\n",
        "  print(f'AUC TEST = {mean_auc} --- AUC TRAIN = {mean_auc_train}')\n",
        "  return mean_auc, mean_auc_train"
      ],
      "execution_count": 69,
      "outputs": []
    },
    {
      "cell_type": "code",
      "metadata": {
        "id": "7E0orWoYMEts"
      },
      "source": [
        "def decision_tree_model(data, criterion , max_depth, splitter):\n",
        "  '''Returns the decision tree model results'''\n",
        "  #Creating the model\n",
        "  model = DecisionTreeClassifier(criterion = criterion, max_depth = max_depth, splitter=splitter )\n",
        "  \n",
        "  #separating train and test data\n",
        "  x_train,x_test,y_train,y_test = separate_train_test(data)\n",
        "  model.fit(x_train,y_train)\n",
        "  \n",
        "  #Criando a predição\n",
        "  predict = model.predict(x_test)\n",
        "  \n",
        "  return model, predict"
      ],
      "execution_count": 24,
      "outputs": []
    },
    {
      "cell_type": "code",
      "metadata": {
        "id": "Q9Fv6UNmOKed"
      },
      "source": [
        "def logistic_regression_model(data, penalty, c, solver, max_iter, multi_class):\n",
        "  '''Returns the logistic regression model results'''\n",
        "  #Creating the model\n",
        "  model = LogisticRegression(penalty=penalty, C=c, solver=solver, max_iter=max_iter, multi_class=multi_class)\n",
        "  \n",
        "  #separating train and test data\n",
        "  x_train,x_test,y_train,y_test = separate_train_test(data)\n",
        "  model.fit(x_train,y_train)\n",
        "  \n",
        "  #Predicting\n",
        "  predict = model.predict(x_test)\n",
        "  \n",
        "  return model, predict"
      ],
      "execution_count": 25,
      "outputs": []
    },
    {
      "cell_type": "code",
      "metadata": {
        "id": "JMgpFJqgbVTh"
      },
      "source": [
        "def random_forest_model(data, n_est, max_feat, max_depth, bootstrap, oob_score, criterion, min_samples_leaf, min_impurity_decrease ):\n",
        "  '''Returns therandom forest model results'''\n",
        "  #Creating the model\n",
        "  model = RandomForestClassifier(n_estimators=n_est, \n",
        "                                 max_features=max_feat,\n",
        "                                 max_depth=max_depth, \n",
        "                                 bootstrap=bootstrap,\n",
        "                                 oob_score=oob_score, \n",
        "                                 criterion=criterion, \n",
        "                                 min_samples_leaf=min_samples_leaf,\n",
        "                                 min_impurity_decrease=min_impurity_decrease)\n",
        " \n",
        "  #separating train and test data\n",
        "  x_train,x_test,y_train,y_test = separate_train_test(data)\n",
        "  model.fit(x_train,y_train)\n",
        " \n",
        "  #Predicting\n",
        "  predict = model.predict(x_test)\n",
        "  \n",
        "  return model, predict"
      ],
      "execution_count": 26,
      "outputs": []
    },
    {
      "cell_type": "code",
      "metadata": {
        "id": "w1H8UHFm43ii"
      },
      "source": [
        "def roc_plot(model, name_model, data):\n",
        "  '''Plots the roc curve'''\n",
        "  \n",
        "  # divide data\n",
        "  x_train, x_test, y_train, y_test = separate_train_test(data)\n",
        "  \n",
        "  # create figure\n",
        "  fig = plt.subplots(figsize=(10, 10))\n",
        "  ax = plt.axes()\n",
        "\n",
        "  # plot the curve\n",
        "  plot_roc_curve(model, x_test, y_test, ax=ax, color='r')\n",
        "\n",
        "  # define labels and title\n",
        "  plt.title(f'ROC curve for the {name_model} model \\n', fontsize=20, fontweight='bold',\n",
        "           color='black')\n",
        "  plt.ylabel('Razão de Verdadeiro Positivo (VP)', fontsize=11, color='dimgrey',\n",
        "             fontweight='bold')\n",
        "  plt.xlabel('Razão de Falto Positivo (FP)', fontsize=11, color='dimgrey',\n",
        "             fontweight='bold')\n",
        "\n",
        "  \n",
        "  ax.spines['bottom'].set_color('silver')\n",
        "  ax.spines['left'].set_color('silver')\n",
        "  ax.spines['right'].set_visible(False)\n",
        "  ax.spines['top'].set_visible(False)\n",
        "\n",
        "  # create the grid\n",
        "  ax.grid(axis='both', which='major', linestyle='dotted')\n",
        "\n",
        "  # insert legend\n",
        "  ax.legend(loc='upper left', fontsize=10)\n",
        "\n",
        "  plt.show()"
      ],
      "execution_count": 51,
      "outputs": []
    },
    {
      "cell_type": "code",
      "metadata": {
        "id": "HbcigLrSBpC_"
      },
      "source": [
        "def confusion_matrix_plot(model, name_model, data):\n",
        "  '''plot the confusion matrix of a specific model'''\n",
        "  \n",
        "    # divide data\n",
        "  x_train, x_test, y_train, y_test = separate_train_test(data)\n",
        "\n",
        "  # create figure\n",
        "  fig = plt.figure(figsize=(10, 10))\n",
        "  ax = plt.axes()\n",
        "\n",
        "  # plot matrix\n",
        "  plot_confusion_matrix(model, x_test, y_test, ax = ax,\n",
        "                        display_labels=['NO ICU support', 'ICU support'])\n",
        "  \n",
        "  # remove colorbar\n",
        "  fig.delaxes(fig.axes[1])\n",
        "  \n",
        "  # define labels and title\n",
        "  plt.title(f'Confusion Matrix of the  {name_model} model \\n', fontsize=20, fontweight='bold',\n",
        "           color='black')\n",
        "  plt.ylabel('Actual Class', fontsize=11, color='dimgrey',\n",
        "             fontweight='bold')\n",
        "  plt.xlabel('Predicted Class', fontsize=11, color='dimgrey',\n",
        "             fontweight='bold')\n",
        "  \n",
        "  plt.show()"
      ],
      "execution_count": 59,
      "outputs": []
    },
    {
      "cell_type": "markdown",
      "metadata": {
        "id": "1wqYchUMJ8qU"
      },
      "source": [
        "###Machine learning "
      ]
    },
    {
      "cell_type": "markdown",
      "metadata": {
        "id": "wPDHouEjgxnR"
      },
      "source": [
        "In this section the data and insights from the previous notebooks are going to be used to make a prediction model. First, the information need to be put into a specific format, since the models demands the input of data on a specific way."
      ]
    },
    {
      "cell_type": "code",
      "metadata": {
        "colab": {
          "base_uri": "https://localhost:8080/",
          "height": 286
        },
        "id": "5QZ66K24z9q7",
        "outputId": "13854674-3616-49b1-e37d-cdf0ebf16410"
      },
      "source": [
        "#Reading the data\n",
        "data = pd.read_csv('https://raw.githubusercontent.com/IgorQuaresma/SirioLibanesKaggle/main/Data/Processed/processed_data_ml.csv')\n",
        "data = data.iloc[:,2:]\n",
        "data.head()"
      ],
      "execution_count": 60,
      "outputs": [
        {
          "output_type": "execute_result",
          "data": {
            "text/html": [
              "<div>\n",
              "<style scoped>\n",
              "    .dataframe tbody tr th:only-of-type {\n",
              "        vertical-align: middle;\n",
              "    }\n",
              "\n",
              "    .dataframe tbody tr th {\n",
              "        vertical-align: top;\n",
              "    }\n",
              "\n",
              "    .dataframe thead th {\n",
              "        text-align: right;\n",
              "    }\n",
              "</style>\n",
              "<table border=\"1\" class=\"dataframe\">\n",
              "  <thead>\n",
              "    <tr style=\"text-align: right;\">\n",
              "      <th></th>\n",
              "      <th>PATIENT_VISIT_IDENTIFIER.1</th>\n",
              "      <th>AGE_ABOVE65</th>\n",
              "      <th>AGE_PERCENTIL</th>\n",
              "      <th>GENDER</th>\n",
              "      <th>DISEASE GROUPING 1</th>\n",
              "      <th>DISEASE GROUPING 2</th>\n",
              "      <th>DISEASE GROUPING 3</th>\n",
              "      <th>DISEASE GROUPING 4</th>\n",
              "      <th>DISEASE GROUPING 5</th>\n",
              "      <th>DISEASE GROUPING 6</th>\n",
              "      <th>HTN</th>\n",
              "      <th>IMMUNOCOMPROMISED</th>\n",
              "      <th>OTHER</th>\n",
              "      <th>ALBUMIN_MEDIAN</th>\n",
              "      <th>ALBUMIN_DIFF</th>\n",
              "      <th>BE_ARTERIAL_MEDIAN</th>\n",
              "      <th>BE_ARTERIAL_DIFF</th>\n",
              "      <th>BE_VENOUS_MEDIAN</th>\n",
              "      <th>BE_VENOUS_DIFF</th>\n",
              "      <th>BIC_ARTERIAL_MEDIAN</th>\n",
              "      <th>BIC_ARTERIAL_DIFF</th>\n",
              "      <th>BIC_VENOUS_MEDIAN</th>\n",
              "      <th>BIC_VENOUS_DIFF</th>\n",
              "      <th>BILLIRUBIN_MEDIAN</th>\n",
              "      <th>BILLIRUBIN_DIFF</th>\n",
              "      <th>BLAST_MEDIAN</th>\n",
              "      <th>BLAST_DIFF</th>\n",
              "      <th>CALCIUM_MEDIAN</th>\n",
              "      <th>CALCIUM_DIFF</th>\n",
              "      <th>CREATININ_MEDIAN</th>\n",
              "      <th>CREATININ_DIFF</th>\n",
              "      <th>FFA_MEDIAN</th>\n",
              "      <th>FFA_DIFF</th>\n",
              "      <th>GGT_MEDIAN</th>\n",
              "      <th>GGT_DIFF</th>\n",
              "      <th>GLUCOSE_MEDIAN</th>\n",
              "      <th>GLUCOSE_DIFF</th>\n",
              "      <th>HEMATOCRITE_MEDIAN</th>\n",
              "      <th>HEMATOCRITE_DIFF</th>\n",
              "      <th>HEMOGLOBIN_DIFF</th>\n",
              "      <th>...</th>\n",
              "      <th>PH_ARTERIAL_DIFF</th>\n",
              "      <th>PH_VENOUS_MEDIAN</th>\n",
              "      <th>PH_VENOUS_DIFF</th>\n",
              "      <th>PLATELETS_MEDIAN</th>\n",
              "      <th>PLATELETS_DIFF</th>\n",
              "      <th>POTASSIUM_MEDIAN</th>\n",
              "      <th>POTASSIUM_DIFF</th>\n",
              "      <th>SAT02_ARTERIAL_MEDIAN</th>\n",
              "      <th>SAT02_ARTERIAL_DIFF</th>\n",
              "      <th>SAT02_VENOUS_MEDIAN</th>\n",
              "      <th>SAT02_VENOUS_DIFF</th>\n",
              "      <th>SODIUM_MEDIAN</th>\n",
              "      <th>SODIUM_DIFF</th>\n",
              "      <th>TGO_MEDIAN</th>\n",
              "      <th>TGO_DIFF</th>\n",
              "      <th>TGP_MEDIAN</th>\n",
              "      <th>TGP_DIFF</th>\n",
              "      <th>TTPA_MEDIAN</th>\n",
              "      <th>TTPA_DIFF</th>\n",
              "      <th>UREA_MEDIAN</th>\n",
              "      <th>UREA_DIFF</th>\n",
              "      <th>DIMER_MEDIAN</th>\n",
              "      <th>DIMER_DIFF</th>\n",
              "      <th>BLOODPRESSURE_DIASTOLIC_MEAN</th>\n",
              "      <th>BLOODPRESSURE_SISTOLIC_MEAN</th>\n",
              "      <th>HEART_RATE_MEAN</th>\n",
              "      <th>RESPIRATORY_RATE_MEAN</th>\n",
              "      <th>TEMPERATURE_MEAN</th>\n",
              "      <th>OXYGEN_SATURATION_MEAN</th>\n",
              "      <th>RESPIRATORY_RATE_MIN</th>\n",
              "      <th>BLOODPRESSURE_DIASTOLIC_MAX</th>\n",
              "      <th>BLOODPRESSURE_DIASTOLIC_DIFF</th>\n",
              "      <th>BLOODPRESSURE_SISTOLIC_DIFF</th>\n",
              "      <th>HEART_RATE_DIFF</th>\n",
              "      <th>RESPIRATORY_RATE_DIFF</th>\n",
              "      <th>TEMPERATURE_DIFF</th>\n",
              "      <th>OXYGEN_SATURATION_DIFF</th>\n",
              "      <th>HEART_RATE_DIFF_REL</th>\n",
              "      <th>WINDOW</th>\n",
              "      <th>ICU</th>\n",
              "    </tr>\n",
              "  </thead>\n",
              "  <tbody>\n",
              "    <tr>\n",
              "      <th>0</th>\n",
              "      <td>0</td>\n",
              "      <td>1</td>\n",
              "      <td>5</td>\n",
              "      <td>0</td>\n",
              "      <td>0.0</td>\n",
              "      <td>0.0</td>\n",
              "      <td>0.0</td>\n",
              "      <td>0.0</td>\n",
              "      <td>1.0</td>\n",
              "      <td>1.0</td>\n",
              "      <td>0.0</td>\n",
              "      <td>0.0</td>\n",
              "      <td>1.0</td>\n",
              "      <td>0.605263</td>\n",
              "      <td>-1.0</td>\n",
              "      <td>-1.0</td>\n",
              "      <td>-1.0</td>\n",
              "      <td>-1.0</td>\n",
              "      <td>-1.0</td>\n",
              "      <td>-0.317073</td>\n",
              "      <td>-1.0</td>\n",
              "      <td>-0.317073</td>\n",
              "      <td>-1.0</td>\n",
              "      <td>-0.938950</td>\n",
              "      <td>-1.0</td>\n",
              "      <td>-1.0</td>\n",
              "      <td>-1.0</td>\n",
              "      <td>0.183673</td>\n",
              "      <td>-1.0</td>\n",
              "      <td>-0.868365</td>\n",
              "      <td>-1.0</td>\n",
              "      <td>-0.742004</td>\n",
              "      <td>-1.0</td>\n",
              "      <td>-0.945093</td>\n",
              "      <td>-1.0</td>\n",
              "      <td>-0.891993</td>\n",
              "      <td>-1.0</td>\n",
              "      <td>0.090147</td>\n",
              "      <td>-1.0</td>\n",
              "      <td>-1.0</td>\n",
              "      <td>...</td>\n",
              "      <td>-1.0</td>\n",
              "      <td>0.363636</td>\n",
              "      <td>-1.0</td>\n",
              "      <td>-0.540721</td>\n",
              "      <td>-1.0</td>\n",
              "      <td>-0.518519</td>\n",
              "      <td>-1.0</td>\n",
              "      <td>0.939394</td>\n",
              "      <td>-1.0</td>\n",
              "      <td>0.345679</td>\n",
              "      <td>-1.0</td>\n",
              "      <td>-0.028571</td>\n",
              "      <td>-1.0</td>\n",
              "      <td>-0.997201</td>\n",
              "      <td>-1.0</td>\n",
              "      <td>-0.990854</td>\n",
              "      <td>-1.0</td>\n",
              "      <td>-0.825613</td>\n",
              "      <td>-1.0</td>\n",
              "      <td>-0.836145</td>\n",
              "      <td>-1.0</td>\n",
              "      <td>-0.994912</td>\n",
              "      <td>-1.0</td>\n",
              "      <td>0.086420</td>\n",
              "      <td>-0.230769</td>\n",
              "      <td>-0.283019</td>\n",
              "      <td>-0.593220</td>\n",
              "      <td>-0.285714</td>\n",
              "      <td>0.736842</td>\n",
              "      <td>-0.500000</td>\n",
              "      <td>-0.247863</td>\n",
              "      <td>-1.000000</td>\n",
              "      <td>-1.000000</td>\n",
              "      <td>-1.000000</td>\n",
              "      <td>-1.000000</td>\n",
              "      <td>-1.000000</td>\n",
              "      <td>-1.000000</td>\n",
              "      <td>-1.000000</td>\n",
              "      <td>0-2</td>\n",
              "      <td>1</td>\n",
              "    </tr>\n",
              "    <tr>\n",
              "      <th>1</th>\n",
              "      <td>2</td>\n",
              "      <td>0</td>\n",
              "      <td>0</td>\n",
              "      <td>0</td>\n",
              "      <td>0.0</td>\n",
              "      <td>0.0</td>\n",
              "      <td>0.0</td>\n",
              "      <td>0.0</td>\n",
              "      <td>0.0</td>\n",
              "      <td>0.0</td>\n",
              "      <td>0.0</td>\n",
              "      <td>0.0</td>\n",
              "      <td>1.0</td>\n",
              "      <td>0.605263</td>\n",
              "      <td>-1.0</td>\n",
              "      <td>-1.0</td>\n",
              "      <td>-1.0</td>\n",
              "      <td>-1.0</td>\n",
              "      <td>-1.0</td>\n",
              "      <td>-0.317073</td>\n",
              "      <td>-1.0</td>\n",
              "      <td>-0.317073</td>\n",
              "      <td>-1.0</td>\n",
              "      <td>-0.938950</td>\n",
              "      <td>-1.0</td>\n",
              "      <td>-1.0</td>\n",
              "      <td>-1.0</td>\n",
              "      <td>0.357143</td>\n",
              "      <td>-1.0</td>\n",
              "      <td>-0.912243</td>\n",
              "      <td>-1.0</td>\n",
              "      <td>-0.742004</td>\n",
              "      <td>-1.0</td>\n",
              "      <td>-0.958528</td>\n",
              "      <td>-1.0</td>\n",
              "      <td>-0.780261</td>\n",
              "      <td>-1.0</td>\n",
              "      <td>0.144654</td>\n",
              "      <td>-1.0</td>\n",
              "      <td>-1.0</td>\n",
              "      <td>...</td>\n",
              "      <td>-1.0</td>\n",
              "      <td>0.363636</td>\n",
              "      <td>-1.0</td>\n",
              "      <td>-0.399199</td>\n",
              "      <td>-1.0</td>\n",
              "      <td>-0.703704</td>\n",
              "      <td>-1.0</td>\n",
              "      <td>0.939394</td>\n",
              "      <td>-1.0</td>\n",
              "      <td>0.345679</td>\n",
              "      <td>-1.0</td>\n",
              "      <td>0.085714</td>\n",
              "      <td>-1.0</td>\n",
              "      <td>-0.995428</td>\n",
              "      <td>-1.0</td>\n",
              "      <td>-0.986662</td>\n",
              "      <td>-1.0</td>\n",
              "      <td>-0.846633</td>\n",
              "      <td>-1.0</td>\n",
              "      <td>-0.836145</td>\n",
              "      <td>-1.0</td>\n",
              "      <td>-0.978029</td>\n",
              "      <td>-1.0</td>\n",
              "      <td>-0.489712</td>\n",
              "      <td>-0.685470</td>\n",
              "      <td>-0.048218</td>\n",
              "      <td>-0.645951</td>\n",
              "      <td>0.357143</td>\n",
              "      <td>0.935673</td>\n",
              "      <td>-0.714286</td>\n",
              "      <td>-0.435897</td>\n",
              "      <td>-0.547826</td>\n",
              "      <td>-0.533742</td>\n",
              "      <td>-0.603053</td>\n",
              "      <td>-0.764706</td>\n",
              "      <td>-1.000000</td>\n",
              "      <td>-0.959596</td>\n",
              "      <td>-0.747001</td>\n",
              "      <td>0-2</td>\n",
              "      <td>1</td>\n",
              "    </tr>\n",
              "    <tr>\n",
              "      <th>2</th>\n",
              "      <td>3</td>\n",
              "      <td>0</td>\n",
              "      <td>3</td>\n",
              "      <td>1</td>\n",
              "      <td>0.0</td>\n",
              "      <td>0.0</td>\n",
              "      <td>0.0</td>\n",
              "      <td>0.0</td>\n",
              "      <td>0.0</td>\n",
              "      <td>0.0</td>\n",
              "      <td>0.0</td>\n",
              "      <td>1.0</td>\n",
              "      <td>1.0</td>\n",
              "      <td>-0.263158</td>\n",
              "      <td>-1.0</td>\n",
              "      <td>-1.0</td>\n",
              "      <td>-1.0</td>\n",
              "      <td>-1.0</td>\n",
              "      <td>-1.0</td>\n",
              "      <td>-0.317073</td>\n",
              "      <td>-1.0</td>\n",
              "      <td>-0.317073</td>\n",
              "      <td>-1.0</td>\n",
              "      <td>-0.972789</td>\n",
              "      <td>-1.0</td>\n",
              "      <td>-1.0</td>\n",
              "      <td>-1.0</td>\n",
              "      <td>0.326531</td>\n",
              "      <td>-1.0</td>\n",
              "      <td>-0.968861</td>\n",
              "      <td>-1.0</td>\n",
              "      <td>-0.194030</td>\n",
              "      <td>-1.0</td>\n",
              "      <td>-0.316589</td>\n",
              "      <td>-1.0</td>\n",
              "      <td>-0.891993</td>\n",
              "      <td>-1.0</td>\n",
              "      <td>-0.203354</td>\n",
              "      <td>-1.0</td>\n",
              "      <td>-1.0</td>\n",
              "      <td>...</td>\n",
              "      <td>-1.0</td>\n",
              "      <td>0.363636</td>\n",
              "      <td>-1.0</td>\n",
              "      <td>-0.564753</td>\n",
              "      <td>-1.0</td>\n",
              "      <td>-0.777778</td>\n",
              "      <td>-1.0</td>\n",
              "      <td>0.939394</td>\n",
              "      <td>-1.0</td>\n",
              "      <td>0.580247</td>\n",
              "      <td>-1.0</td>\n",
              "      <td>0.200000</td>\n",
              "      <td>-1.0</td>\n",
              "      <td>-0.989549</td>\n",
              "      <td>-1.0</td>\n",
              "      <td>-0.956555</td>\n",
              "      <td>-1.0</td>\n",
              "      <td>-0.846633</td>\n",
              "      <td>-1.0</td>\n",
              "      <td>-0.937349</td>\n",
              "      <td>-1.0</td>\n",
              "      <td>-0.978029</td>\n",
              "      <td>-1.0</td>\n",
              "      <td>0.012346</td>\n",
              "      <td>-0.369231</td>\n",
              "      <td>-0.528302</td>\n",
              "      <td>-0.457627</td>\n",
              "      <td>-0.285714</td>\n",
              "      <td>0.684211</td>\n",
              "      <td>-0.357143</td>\n",
              "      <td>-0.299145</td>\n",
              "      <td>-1.000000</td>\n",
              "      <td>-1.000000</td>\n",
              "      <td>-1.000000</td>\n",
              "      <td>-1.000000</td>\n",
              "      <td>-1.000000</td>\n",
              "      <td>-1.000000</td>\n",
              "      <td>-1.000000</td>\n",
              "      <td>0-2</td>\n",
              "      <td>0</td>\n",
              "    </tr>\n",
              "    <tr>\n",
              "      <th>3</th>\n",
              "      <td>4</td>\n",
              "      <td>0</td>\n",
              "      <td>0</td>\n",
              "      <td>0</td>\n",
              "      <td>0.0</td>\n",
              "      <td>0.0</td>\n",
              "      <td>0.0</td>\n",
              "      <td>0.0</td>\n",
              "      <td>0.0</td>\n",
              "      <td>0.0</td>\n",
              "      <td>0.0</td>\n",
              "      <td>0.0</td>\n",
              "      <td>1.0</td>\n",
              "      <td>0.605263</td>\n",
              "      <td>-1.0</td>\n",
              "      <td>-1.0</td>\n",
              "      <td>-1.0</td>\n",
              "      <td>-1.0</td>\n",
              "      <td>-1.0</td>\n",
              "      <td>-0.317073</td>\n",
              "      <td>-1.0</td>\n",
              "      <td>-0.317073</td>\n",
              "      <td>-1.0</td>\n",
              "      <td>-0.935113</td>\n",
              "      <td>-1.0</td>\n",
              "      <td>-1.0</td>\n",
              "      <td>-1.0</td>\n",
              "      <td>0.357143</td>\n",
              "      <td>-1.0</td>\n",
              "      <td>-0.913659</td>\n",
              "      <td>-1.0</td>\n",
              "      <td>-0.829424</td>\n",
              "      <td>-1.0</td>\n",
              "      <td>-0.938084</td>\n",
              "      <td>-1.0</td>\n",
              "      <td>-0.851024</td>\n",
              "      <td>-1.0</td>\n",
              "      <td>0.358491</td>\n",
              "      <td>-1.0</td>\n",
              "      <td>-1.0</td>\n",
              "      <td>...</td>\n",
              "      <td>-1.0</td>\n",
              "      <td>0.363636</td>\n",
              "      <td>-1.0</td>\n",
              "      <td>-0.457944</td>\n",
              "      <td>-1.0</td>\n",
              "      <td>-0.592593</td>\n",
              "      <td>-1.0</td>\n",
              "      <td>0.939394</td>\n",
              "      <td>-1.0</td>\n",
              "      <td>0.345679</td>\n",
              "      <td>-1.0</td>\n",
              "      <td>0.142857</td>\n",
              "      <td>-1.0</td>\n",
              "      <td>-0.998507</td>\n",
              "      <td>-1.0</td>\n",
              "      <td>-0.991235</td>\n",
              "      <td>-1.0</td>\n",
              "      <td>-0.846633</td>\n",
              "      <td>-1.0</td>\n",
              "      <td>-0.903614</td>\n",
              "      <td>-1.0</td>\n",
              "      <td>-1.000000</td>\n",
              "      <td>-1.0</td>\n",
              "      <td>0.333333</td>\n",
              "      <td>-0.153846</td>\n",
              "      <td>0.160377</td>\n",
              "      <td>-0.593220</td>\n",
              "      <td>0.285714</td>\n",
              "      <td>0.868421</td>\n",
              "      <td>-0.571429</td>\n",
              "      <td>-0.076923</td>\n",
              "      <td>-1.000000</td>\n",
              "      <td>-0.877301</td>\n",
              "      <td>-0.923664</td>\n",
              "      <td>-0.882353</td>\n",
              "      <td>-0.952381</td>\n",
              "      <td>-0.979798</td>\n",
              "      <td>-0.956805</td>\n",
              "      <td>0-2</td>\n",
              "      <td>0</td>\n",
              "    </tr>\n",
              "    <tr>\n",
              "      <th>4</th>\n",
              "      <td>5</td>\n",
              "      <td>0</td>\n",
              "      <td>0</td>\n",
              "      <td>0</td>\n",
              "      <td>0.0</td>\n",
              "      <td>0.0</td>\n",
              "      <td>0.0</td>\n",
              "      <td>0.0</td>\n",
              "      <td>0.0</td>\n",
              "      <td>0.0</td>\n",
              "      <td>0.0</td>\n",
              "      <td>0.0</td>\n",
              "      <td>1.0</td>\n",
              "      <td>0.605263</td>\n",
              "      <td>-1.0</td>\n",
              "      <td>-1.0</td>\n",
              "      <td>-1.0</td>\n",
              "      <td>-1.0</td>\n",
              "      <td>-1.0</td>\n",
              "      <td>-0.317073</td>\n",
              "      <td>-1.0</td>\n",
              "      <td>-0.317073</td>\n",
              "      <td>-1.0</td>\n",
              "      <td>-0.938950</td>\n",
              "      <td>-1.0</td>\n",
              "      <td>-1.0</td>\n",
              "      <td>-1.0</td>\n",
              "      <td>0.357143</td>\n",
              "      <td>-1.0</td>\n",
              "      <td>-0.891012</td>\n",
              "      <td>-1.0</td>\n",
              "      <td>-0.742004</td>\n",
              "      <td>-1.0</td>\n",
              "      <td>-0.958528</td>\n",
              "      <td>-1.0</td>\n",
              "      <td>-0.891993</td>\n",
              "      <td>-1.0</td>\n",
              "      <td>0.291405</td>\n",
              "      <td>-1.0</td>\n",
              "      <td>-1.0</td>\n",
              "      <td>...</td>\n",
              "      <td>-1.0</td>\n",
              "      <td>0.363636</td>\n",
              "      <td>-1.0</td>\n",
              "      <td>-0.292390</td>\n",
              "      <td>-1.0</td>\n",
              "      <td>-0.666667</td>\n",
              "      <td>-1.0</td>\n",
              "      <td>0.939394</td>\n",
              "      <td>-1.0</td>\n",
              "      <td>0.345679</td>\n",
              "      <td>-1.0</td>\n",
              "      <td>0.085714</td>\n",
              "      <td>-1.0</td>\n",
              "      <td>-0.997947</td>\n",
              "      <td>-1.0</td>\n",
              "      <td>-0.988948</td>\n",
              "      <td>-1.0</td>\n",
              "      <td>-0.846633</td>\n",
              "      <td>-1.0</td>\n",
              "      <td>-0.884337</td>\n",
              "      <td>-1.0</td>\n",
              "      <td>-1.000000</td>\n",
              "      <td>-1.0</td>\n",
              "      <td>-0.037037</td>\n",
              "      <td>-0.538462</td>\n",
              "      <td>-0.537736</td>\n",
              "      <td>-0.525424</td>\n",
              "      <td>-0.196429</td>\n",
              "      <td>0.815789</td>\n",
              "      <td>-0.428571</td>\n",
              "      <td>-0.247863</td>\n",
              "      <td>-0.826087</td>\n",
              "      <td>-0.754601</td>\n",
              "      <td>-0.984733</td>\n",
              "      <td>-1.000000</td>\n",
              "      <td>-0.976190</td>\n",
              "      <td>-0.979798</td>\n",
              "      <td>-0.986481</td>\n",
              "      <td>0-2</td>\n",
              "      <td>0</td>\n",
              "    </tr>\n",
              "  </tbody>\n",
              "</table>\n",
              "<p>5 rows × 100 columns</p>\n",
              "</div>"
            ],
            "text/plain": [
              "   PATIENT_VISIT_IDENTIFIER.1  AGE_ABOVE65  ...  WINDOW  ICU\n",
              "0                           0            1  ...     0-2    1\n",
              "1                           2            0  ...     0-2    1\n",
              "2                           3            0  ...     0-2    0\n",
              "3                           4            0  ...     0-2    0\n",
              "4                           5            0  ...     0-2    0\n",
              "\n",
              "[5 rows x 100 columns]"
            ]
          },
          "metadata": {},
          "execution_count": 60
        }
      ]
    },
    {
      "cell_type": "code",
      "metadata": {
        "id": "Vhe35rQKfW5N"
      },
      "source": [
        "#Saving the values in the dependent (y) and independent variable (x)\n",
        "x = data.drop(['ICU','WINDOW'], axis=1) \n",
        "y= data['ICU']"
      ],
      "execution_count": 61,
      "outputs": []
    },
    {
      "cell_type": "markdown",
      "metadata": {
        "id": "vdOXfsG-hnoL"
      },
      "source": [
        "Now that the data is ready, the prediction models using different techniques will be shown below."
      ]
    },
    {
      "cell_type": "markdown",
      "metadata": {
        "id": "MAGwqeG4iIFC"
      },
      "source": [
        "###Logistic Regression"
      ]
    },
    {
      "cell_type": "code",
      "metadata": {
        "colab": {
          "base_uri": "https://localhost:8080/"
        },
        "id": "Rfh83haghe_o",
        "outputId": "6b3f8299-c201-4823-95f5-274c5de2f52f"
      },
      "source": [
        "#Logistic Regression model\n",
        "model_LR,predict_LR=logistic_regression_model(data,penalty='none',c=3.0,solver='sag',max_iter=100000,multi_class='multinomial')\n",
        "\n",
        "\n",
        "#model accuracy\n",
        "accuracy(data,model_LR,'Logistic Regression')"
      ],
      "execution_count": 62,
      "outputs": [
        {
          "output_type": "stream",
          "name": "stdout",
          "text": [
            "The accuracy of the Logistic Regression model is: 73.24% \n"
          ]
        }
      ]
    },
    {
      "cell_type": "code",
      "metadata": {
        "colab": {
          "base_uri": "https://localhost:8080/"
        },
        "id": "a9k3_nMZ-hO5",
        "outputId": "f0198922-7ce6-4dff-9d6a-8c009bab1d90"
      },
      "source": [
        "run_model(data, model_LR)\n",
        "(dados,'entropy',4,'best')"
      ],
      "execution_count": 63,
      "outputs": [
        {
          "output_type": "stream",
          "name": "stdout",
          "text": [
            "AUC = 0.777511961722488\n",
            "\n",
            "Classification Report\n",
            "              precision    recall  f1-score   support\n",
            "\n",
            "           0       0.71      0.84      0.77        38\n",
            "           1       0.77      0.61      0.68        33\n",
            "\n",
            "    accuracy                           0.73        71\n",
            "   macro avg       0.74      0.72      0.72        71\n",
            "weighted avg       0.74      0.73      0.73        71\n",
            "\n"
          ]
        }
      ]
    },
    {
      "cell_type": "code",
      "metadata": {
        "colab": {
          "base_uri": "https://localhost:8080/",
          "height": 648
        },
        "id": "eiVEiC_w_9nG",
        "outputId": "9f84d0de-f38e-4706-e6ec-f0c15e5b7bc6"
      },
      "source": [
        "roc_plot(model_LR, 'Logistic Regression', data)"
      ],
      "execution_count": 64,
      "outputs": [
        {
          "output_type": "display_data",
          "data": {
            "image/png": "[encoded data removed]",
            "text/plain": [
              "<Figure size 720x720 with 1 Axes>"
            ]
          },
          "metadata": {}
        }
      ]
    },
    {
      "cell_type": "code",
      "metadata": {
        "colab": {
          "base_uri": "https://localhost:8080/",
          "height": 551
        },
        "id": "jj2gCrIzADUF",
        "outputId": "2e13c51b-8946-4f15-a852-0dc743d5fe08"
      },
      "source": [
        "confusion_matrix_plot(model_LR, 'Logistic Regression', data)"
      ],
      "execution_count": 65,
      "outputs": [
        {
          "output_type": "display_data",
          "data": {
            "image/png": "[encoded data removed]",
            "text/plain": [
              "<Figure size 720x720 with 1 Axes>"
            ]
          },
          "metadata": {}
        }
      ]
    },
    {
      "cell_type": "code",
      "metadata": {
        "colab": {
          "base_uri": "https://localhost:8080/"
        },
        "id": "0DVH42-KDTF6",
        "outputId": "b16c2de1-daff-47e9-83cc-ed50fe3486f3"
      },
      "source": [
        "run_model_cv(model_LR, data, n_splits=5, n_repeats=10)\n"
      ],
      "execution_count": 70,
      "outputs": [
        {
          "output_type": "stream",
          "name": "stdout",
          "text": [
            "AUC TEST = 0.7637317880081036 --- AUC TRAIN = 0.8327498142617122\n"
          ]
        },
        {
          "output_type": "execute_result",
          "data": {
            "text/plain": [
              "(0.7637317880081036, 0.8327498142617122)"
            ]
          },
          "metadata": {},
          "execution_count": 70
        }
      ]
    },
    {
      "cell_type": "markdown",
      "metadata": {
        "id": "lYEpTc8pGZbN"
      },
      "source": [
        "###Decision tree"
      ]
    },
    {
      "cell_type": "code",
      "metadata": {
        "colab": {
          "base_uri": "https://localhost:8080/"
        },
        "id": "2ru3iwKfGjOF",
        "outputId": "6b3f8299-c201-4823-95f5-274c5de2f52f"
      },
      "source": [
        "#Decision tree model\n",
        "model_DT,predict_DT=decision_tree_model(data, criterion , max_depth, splitter)\n",
        "\n",
        "\n",
        "#model accuracy\n",
        "accuracy(data,model_LR,'Logistic Regression')"
      ],
      "execution_count": null,
      "outputs": [
        {
          "output_type": "stream",
          "name": "stdout",
          "text": [
            "The accuracy of the Logistic Regression model is: 73.24% \n"
          ]
        }
      ]
    },
    {
      "cell_type": "code",
      "metadata": {
        "colab": {
          "base_uri": "https://localhost:8080/"
        },
        "id": "-51UWHZ6GjOG",
        "outputId": "f0198922-7ce6-4dff-9d6a-8c009bab1d90"
      },
      "source": [
        "run_model(data, model_LR)"
      ],
      "execution_count": null,
      "outputs": [
        {
          "output_type": "stream",
          "name": "stdout",
          "text": [
            "AUC = 0.777511961722488\n",
            "\n",
            "Classification Report\n",
            "              precision    recall  f1-score   support\n",
            "\n",
            "           0       0.71      0.84      0.77        38\n",
            "           1       0.77      0.61      0.68        33\n",
            "\n",
            "    accuracy                           0.73        71\n",
            "   macro avg       0.74      0.72      0.72        71\n",
            "weighted avg       0.74      0.73      0.73        71\n",
            "\n"
          ]
        }
      ]
    },
    {
      "cell_type": "code",
      "metadata": {
        "colab": {
          "base_uri": "https://localhost:8080/",
          "height": 648
        },
        "id": "NVYb48IXGjOH",
        "outputId": "9f84d0de-f38e-4706-e6ec-f0c15e5b7bc6"
      },
      "source": [
        "roc_plot(model_LR, 'Logistic Regression', data)"
      ],
      "execution_count": null,
      "outputs": [
        {
          "output_type": "display_data",
          "data": {
            "image/png": "[encoded data removed]",
            "text/plain": [
              "<Figure size 720x720 with 1 Axes>"
            ]
          },
          "metadata": {}
        }
      ]
    },
    {
      "cell_type": "code",
      "metadata": {
        "colab": {
          "base_uri": "https://localhost:8080/",
          "height": 551
        },
        "id": "VEZ1-1CeGjOI",
        "outputId": "2e13c51b-8946-4f15-a852-0dc743d5fe08"
      },
      "source": [
        "confusion_matrix_plot(model_LR, 'Logistic Regression', data)"
      ],
      "execution_count": null,
      "outputs": [
        {
          "output_type": "display_data",
          "data": {
            "image/png": "[encoded data removed]",
            "text/plain": [
              "<Figure size 720x720 with 1 Axes>"
            ]
          },
          "metadata": {}
        }
      ]
    },
    {
      "cell_type": "code",
      "metadata": {
        "id": "xKkicvbQFYuW"
      },
      "source": [
        ""
      ],
      "execution_count": null,
      "outputs": []
    }
  ]
}