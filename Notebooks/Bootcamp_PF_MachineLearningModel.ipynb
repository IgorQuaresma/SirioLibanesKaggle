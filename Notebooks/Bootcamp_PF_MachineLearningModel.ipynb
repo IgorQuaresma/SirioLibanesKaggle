{
  "nbformat": 4,
  "nbformat_minor": 0,
  "metadata": {
    "colab": {
      "name": "Bootcamp_PF_MachineLearningModel.ipynb",
      "provenance": [],
      "collapsed_sections": [],
      "authorship_tag": "ABX9TyNVTiLAYoF9qV0bzQP4FvnK",
      "include_colab_link": true
    },
    "kernelspec": {
      "name": "python3",
      "display_name": "Python 3"
    },
    "language_info": {
      "name": "python"
    }
  },
  "cells": [
    {
      "cell_type": "markdown",
      "metadata": {
        "id": "view-in-github",
        "colab_type": "text"
      },
      "source": [
        "<a href=\"https://colab.research.google.com/github/IgorQuaresma/SirioLibanesKaggle/blob/main/Notebooks/Bootcamp_PF_MachineLearningModel.ipynb\" target=\"_parent\"><img src=\"https://colab.research.google.com/assets/colab-badge.svg\" alt=\"Open In Colab\"/></a>"
      ]
    },
    {
      "cell_type": "markdown",
      "metadata": {
        "id": "yvjWETGZwkgk"
      },
      "source": [
        "#Machine Learning"
      ]
    },
    {
      "cell_type": "markdown",
      "metadata": {
        "id": "VXv-Rplzw8G5"
      },
      "source": [
        "## Introduction"
      ]
    },
    {
      "cell_type": "markdown",
      "metadata": {
        "id": "9VqM2bVzxBro"
      },
      "source": [
        "This notebook is the part 3 of 3 notebooks that composes the whole project. The notebook is going to use the data from the pre-proccessing step (part 1) and insights from the exploratory analysis that was done in part 2."
      ]
    },
    {
      "cell_type": "markdown",
      "metadata": {
        "id": "C5XkzkLzx_j-"
      },
      "source": [
        "## Importing the libs"
      ]
    },
    {
      "cell_type": "code",
      "metadata": {
        "id": "yfgHg84SeMsU"
      },
      "source": [
        "#!pip install yellowbrick"
      ],
      "execution_count": 1,
      "outputs": []
    },
    {
      "cell_type": "code",
      "metadata": {
        "id": "TmwMzLI-vmRk",
        "colab": {
          "base_uri": "https://localhost:8080/"
        },
        "outputId": "a86f78f6-a46a-4974-fdb4-db8605a69496"
      },
      "source": [
        "import pandas as pd\n",
        "import matplotlib.pyplot as plt\n",
        "from matplotlib import transforms\n",
        "import numpy as np\n",
        "import seaborn as sns\n",
        "import sklearn as skl\n",
        "\n",
        "from sklearn.metrics import plot_confusion_matrix\n",
        "from sklearn.metrics import classification_report\n",
        "from sklearn.metrics import accuracy_score\n",
        "from sklearn.metrics import roc_auc_score\n",
        "from sklearn.metrics import roc_curve\n",
        "from sklearn.metrics import plot_roc_curve\n",
        "from sklearn.model_selection import train_test_split\n",
        "from sklearn.model_selection import GridSearchCV\n",
        "from sklearn.model_selection import cross_validate\n",
        "from sklearn.model_selection import RepeatedStratifiedKFold\n",
        "from sklearn.discriminant_analysis import LinearDiscriminantAnalysis\n",
        "from sklearn.tree import DecisionTreeClassifier\n",
        "from sklearn.linear_model import LogisticRegression\n",
        "from sklearn.ensemble import RandomForestClassifier\n",
        "from sklearn.neighbors import NearestCentroid\n",
        "from yellowbrick.features import FeatureImportances \n",
        "\n",
        "import warnings\n",
        "warnings.filterwarnings('ignore')"
      ],
      "execution_count": 2,
      "outputs": [
        {
          "output_type": "stream",
          "name": "stderr",
          "text": [
            "/usr/local/lib/python3.7/dist-packages/sklearn/utils/deprecation.py:144: FutureWarning: The sklearn.metrics.classification module is  deprecated in version 0.22 and will be removed in version 0.24. The corresponding classes / functions should instead be imported from sklearn.metrics. Anything that cannot be imported from sklearn.metrics is now part of the private API.\n",
            "  warnings.warn(message, FutureWarning)\n"
          ]
        }
      ]
    },
    {
      "cell_type": "markdown",
      "metadata": {
        "id": "Nmf2Ei3zIsv-"
      },
      "source": [
        "## Functions"
      ]
    },
    {
      "cell_type": "code",
      "metadata": {
        "id": "iuDzD9T7yaX5"
      },
      "source": [
        "def separate_train_test(data):\n",
        "  '''separates the train and test data '''\n",
        "  np.random.seed(1234525)\n",
        "  x_columns = data.columns \n",
        "  y = data['ICU']\n",
        "  x = data[x_columns].drop(['ICU','WINDOW'],axis=1)\n",
        "  x_train,x_test,y_train,y_test = train_test_split(x, y, stratify = y, test_size=0.2)\n",
        "  return x_train,x_test,y_train,y_test"
      ],
      "execution_count": 3,
      "outputs": []
    },
    {
      "cell_type": "code",
      "metadata": {
        "id": "xI4hTagJD7N0"
      },
      "source": [
        "def accuracy(data, model, name):\n",
        "  '''returns the value of accuracy'''\n",
        "  model = model\n",
        "  x_train,x_test,y_train,y_test = separate_train_test(data)\n",
        "  model.fit(x_train,y_train)\n",
        "  predict = model.predict(x_test)\n",
        "\n",
        "  print(f'The accuracy of the {name} model is: {(accuracy_score(y_test, predict))*100 :.2f}% ')"
      ],
      "execution_count": 4,
      "outputs": []
    },
    {
      "cell_type": "code",
      "metadata": {
        "id": "3JQZrG7gE9h3"
      },
      "source": [
        "def run_model(data, model):\n",
        "  '''Returns the Classication Report with the following metrics: recall,f1-score e support'''\n",
        "  #separating train and test data\n",
        "  x_train, x_test, y_train, y_test = separate_train_test(data)\n",
        "\n",
        "  #creating the model\n",
        "  model.fit(x_train,y_train)\n",
        "  predict = model.predict(x_test)\n",
        "  proba_predict = model.predict_proba(x_test)\n",
        "  \n",
        "  #return the auc\n",
        "  auc = roc_auc_score(y_test,proba_predict[:,1])\n",
        "  print(f'AUC = {auc}')\n",
        "  print(\"\\nClassification Report\")\n",
        "  print(classification_report(y_test, predict))"
      ],
      "execution_count": 5,
      "outputs": []
    },
    {
      "cell_type": "code",
      "metadata": {
        "id": "Vj9ewvPjGHqz"
      },
      "source": [
        "def run_model_cv(model, data, n_splits, n_repeats):\n",
        "  '''Returns the mean test and mean train auc of an specific model'''\n",
        "  #separating train and test data\n",
        "  np.random.seed(1234525) \n",
        "  data = data.sample(frac = 1).reset_index(drop = True) \n",
        "  x_columns = data.columns \n",
        "  y = data['ICU']\n",
        "  x = data[x_columns].drop(['ICU','WINDOW'], axis=1)\n",
        "\n",
        "  #creating the model\n",
        "  cv = RepeatedStratifiedKFold(n_splits = n_splits, n_repeats=n_repeats)\n",
        "  results = cross_validate(model,x,y,cv=cv,scoring = 'roc_auc', return_train_score=True) \n",
        "\n",
        "  #return the auc\n",
        "  mean_auc = np.mean(results['test_score']) \n",
        "  mean_auc_train = np.mean(results['train_score']) \n",
        "  auc_std = np.std(results['test_score'])\n",
        "  print(f'AUC TEST = {mean_auc} --- AUC TRAIN = {mean_auc_train}')\n",
        "  return mean_auc, mean_auc_train"
      ],
      "execution_count": 6,
      "outputs": []
    },
    {
      "cell_type": "code",
      "metadata": {
        "id": "7E0orWoYMEts"
      },
      "source": [
        "def decision_tree_model(data, criterion , max_depth, splitter):\n",
        "  '''Returns the decision tree model results'''\n",
        "  #Creating the model\n",
        "  model = DecisionTreeClassifier(criterion = criterion, max_depth = max_depth, splitter=splitter )\n",
        "  \n",
        "  #separating train and test data\n",
        "  x_train,x_test,y_train,y_test = separate_train_test(data)\n",
        "  model.fit(x_train,y_train)\n",
        "  \n",
        "  #Criando a predição\n",
        "  predict = model.predict(x_test)\n",
        "  \n",
        "  return model, predict"
      ],
      "execution_count": 7,
      "outputs": []
    },
    {
      "cell_type": "code",
      "metadata": {
        "id": "Q9Fv6UNmOKed"
      },
      "source": [
        "def logistic_regression_model(data, penalty, c, solver, max_iter, multi_class):\n",
        "  '''Returns the logistic regression model results'''\n",
        "  #Creating the model\n",
        "  model = LogisticRegression(penalty=penalty, C=c, solver=solver, max_iter=max_iter, multi_class=multi_class)\n",
        "  \n",
        "  #separating train and test data\n",
        "  x_train,x_test,y_train,y_test = separate_train_test(data)\n",
        "  model.fit(x_train,y_train)\n",
        "  \n",
        "  #Predicting\n",
        "  predict = model.predict(x_test)\n",
        "  \n",
        "  return model, predict"
      ],
      "execution_count": 8,
      "outputs": []
    },
    {
      "cell_type": "code",
      "metadata": {
        "id": "JMgpFJqgbVTh"
      },
      "source": [
        "def random_forest_model(data, n_est, max_feat, max_depth, bootstrap, oob_score, criterion, min_samples_leaf, min_impurity_decrease):\n",
        "  '''Returns therandom forest model results'''\n",
        "  #Creating the model\n",
        "  model = RandomForestClassifier(n_estimators=n_est, \n",
        "                                 max_features=max_feat,\n",
        "                                 max_depth=max_depth, \n",
        "                                 bootstrap=bootstrap,\n",
        "                                 oob_score=oob_score, \n",
        "                                 criterion=criterion, \n",
        "                                 min_samples_leaf=min_samples_leaf,\n",
        "                                 min_impurity_decrease=min_impurity_decrease)\n",
        " \n",
        "  #separating train and test data\n",
        "  x_train,x_test,y_train,y_test = separate_train_test(data)\n",
        "  model.fit(x_train,y_train)\n",
        " \n",
        "  #Predicting\n",
        "  predict = model.predict(x_test)\n",
        "  \n",
        "  return model, predict"
      ],
      "execution_count": 9,
      "outputs": []
    },
    {
      "cell_type": "code",
      "metadata": {
        "id": "w1H8UHFm43ii"
      },
      "source": [
        "def roc_plot(model, model_name, data):\n",
        "  '''Plots the roc curve'''\n",
        "  \n",
        "  #divide data\n",
        "  x_train, x_test, y_train, y_test = separate_train_test(data)\n",
        "  \n",
        "  #create figure\n",
        "  fig = plt.subplots(figsize=(10, 10))\n",
        "  ax = plt.axes()\n",
        "\n",
        "  #plot the curve\n",
        "  plot_roc_curve(model, x_test, y_test, ax=ax, color='r')\n",
        "\n",
        "  #define labels and title\n",
        "  plt.title(f'ROC curve for the {model_name} model \\n', fontsize=20, fontweight='bold',\n",
        "           color='black')\n",
        "  plt.ylabel('(VP)', fontsize=11, color='dimgrey',\n",
        "             fontweight='bold')\n",
        "  plt.xlabel('(FP)', fontsize=11, color='dimgrey',\n",
        "             fontweight='bold')\n",
        "\n",
        "  \n",
        "  ax.spines['bottom'].set_color('silver')\n",
        "  ax.spines['left'].set_color('silver')\n",
        "  ax.spines['right'].set_visible(False)\n",
        "  ax.spines['top'].set_visible(False)\n",
        "\n",
        "  # create the grid\n",
        "  ax.grid(axis='both', which='major', linestyle='dotted')\n",
        "\n",
        "  # insert legend\n",
        "  ax.legend(loc='upper left', fontsize=10)\n",
        "\n",
        "  plt.show()"
      ],
      "execution_count": 10,
      "outputs": []
    },
    {
      "cell_type": "code",
      "metadata": {
        "id": "HbcigLrSBpC_"
      },
      "source": [
        "def confusion_matrix_plot(model, model_name, data):\n",
        "  '''plot the confusion matrix of a specific model'''\n",
        "  \n",
        "  # divide data\n",
        "  x_train, x_test, y_train, y_test = separate_train_test(data)\n",
        "\n",
        "  # create figure\n",
        "  fig = plt.figure(figsize=(10, 10))\n",
        "  ax = plt.axes()\n",
        "\n",
        "  # plot matrix\n",
        "  plot_confusion_matrix(model, x_test, y_test, ax = ax, normalize='true',\n",
        "                        display_labels=['NO ICU support', 'ICU support'])\n",
        "  \n",
        "  # remove colorbar\n",
        "  fig.delaxes(fig.axes[1])\n",
        "  \n",
        "  # define labels and title\n",
        "  plt.title(f'Confusion Matrix of the  {model_name} model \\n', fontsize=20, fontweight='bold',\n",
        "           color='black')\n",
        "  plt.ylabel('Actual Class', fontsize=11, color='dimgrey',\n",
        "             fontweight='bold')\n",
        "  plt.xlabel('Predicted Class', fontsize=11, color='dimgrey',\n",
        "             fontweight='bold')\n",
        "  \n",
        "  plt.show()"
      ],
      "execution_count": 11,
      "outputs": []
    },
    {
      "cell_type": "code",
      "metadata": {
        "id": "Qqb5yPqERsY3"
      },
      "source": [
        "def grid_search_cv(parameters, model, data):\n",
        "  \n",
        "  #split the data in train and test data\n",
        "  x_train,x_test,y_train,y_test = separate_train_test(data)\n",
        "  \n",
        "  #create the grid search\n",
        "  modelo_grid = GridSearchCV(model, param_grid=parameters, cv=5, scoring=\"roc_auc\")\n",
        "\n",
        "  #train the model\n",
        "  modelo_grid.fit(x_train,y_train)\n",
        "\n",
        "  #generate the best paramaters for each model\n",
        "  best_params = modelo_grid.best_params_\n",
        "\n",
        "  return best_params"
      ],
      "execution_count": 12,
      "outputs": []
    },
    {
      "cell_type": "markdown",
      "metadata": {
        "id": "1wqYchUMJ8qU"
      },
      "source": [
        "##1. Machine learning Models"
      ]
    },
    {
      "cell_type": "markdown",
      "metadata": {
        "id": "wPDHouEjgxnR"
      },
      "source": [
        "In this section the data and insights from the previous notebooks are going to be used to make a prediction model. First, the information need to be put into a specific format, since the models demands the input of data on a specific way."
      ]
    },
    {
      "cell_type": "code",
      "metadata": {
        "colab": {
          "base_uri": "https://localhost:8080/",
          "height": 286
        },
        "id": "5QZ66K24z9q7",
        "outputId": "f3f558f7-c0fe-41e6-9c36-79391aca3ae5"
      },
      "source": [
        "#Reading the data\n",
        "data = pd.read_csv('https://raw.githubusercontent.com/IgorQuaresma/SirioLibanesKaggle/main/Data/Processed/processed_data_ml.csv')\n",
        "data = data.iloc[:,3:]\n",
        "data.head()"
      ],
      "execution_count": 13,
      "outputs": [
        {
          "output_type": "execute_result",
          "data": {
            "text/html": [
              "<div>\n",
              "<style scoped>\n",
              "    .dataframe tbody tr th:only-of-type {\n",
              "        vertical-align: middle;\n",
              "    }\n",
              "\n",
              "    .dataframe tbody tr th {\n",
              "        vertical-align: top;\n",
              "    }\n",
              "\n",
              "    .dataframe thead th {\n",
              "        text-align: right;\n",
              "    }\n",
              "</style>\n",
              "<table border=\"1\" class=\"dataframe\">\n",
              "  <thead>\n",
              "    <tr style=\"text-align: right;\">\n",
              "      <th></th>\n",
              "      <th>AGE_ABOVE65</th>\n",
              "      <th>AGE_PERCENTIL</th>\n",
              "      <th>GENDER</th>\n",
              "      <th>DISEASE GROUPING 1</th>\n",
              "      <th>DISEASE GROUPING 2</th>\n",
              "      <th>DISEASE GROUPING 3</th>\n",
              "      <th>DISEASE GROUPING 4</th>\n",
              "      <th>DISEASE GROUPING 5</th>\n",
              "      <th>DISEASE GROUPING 6</th>\n",
              "      <th>HTN</th>\n",
              "      <th>IMMUNOCOMPROMISED</th>\n",
              "      <th>OTHER</th>\n",
              "      <th>ALBUMIN_MEDIAN</th>\n",
              "      <th>ALBUMIN_DIFF</th>\n",
              "      <th>BE_ARTERIAL_MEDIAN</th>\n",
              "      <th>BE_ARTERIAL_DIFF</th>\n",
              "      <th>BE_VENOUS_MEDIAN</th>\n",
              "      <th>BE_VENOUS_DIFF</th>\n",
              "      <th>BIC_ARTERIAL_MEDIAN</th>\n",
              "      <th>BIC_ARTERIAL_DIFF</th>\n",
              "      <th>BIC_VENOUS_MEDIAN</th>\n",
              "      <th>BIC_VENOUS_DIFF</th>\n",
              "      <th>BILLIRUBIN_MEDIAN</th>\n",
              "      <th>BILLIRUBIN_DIFF</th>\n",
              "      <th>BLAST_MEDIAN</th>\n",
              "      <th>BLAST_DIFF</th>\n",
              "      <th>CALCIUM_MEDIAN</th>\n",
              "      <th>CALCIUM_DIFF</th>\n",
              "      <th>CREATININ_MEDIAN</th>\n",
              "      <th>CREATININ_DIFF</th>\n",
              "      <th>FFA_MEDIAN</th>\n",
              "      <th>FFA_DIFF</th>\n",
              "      <th>GGT_MEDIAN</th>\n",
              "      <th>GGT_DIFF</th>\n",
              "      <th>GLUCOSE_MEDIAN</th>\n",
              "      <th>GLUCOSE_DIFF</th>\n",
              "      <th>HEMATOCRITE_MEDIAN</th>\n",
              "      <th>HEMATOCRITE_DIFF</th>\n",
              "      <th>HEMOGLOBIN_DIFF</th>\n",
              "      <th>INR_MEDIAN</th>\n",
              "      <th>...</th>\n",
              "      <th>PH_ARTERIAL_DIFF</th>\n",
              "      <th>PH_VENOUS_MEDIAN</th>\n",
              "      <th>PH_VENOUS_DIFF</th>\n",
              "      <th>PLATELETS_MEDIAN</th>\n",
              "      <th>PLATELETS_DIFF</th>\n",
              "      <th>POTASSIUM_MEDIAN</th>\n",
              "      <th>POTASSIUM_DIFF</th>\n",
              "      <th>SAT02_ARTERIAL_MEDIAN</th>\n",
              "      <th>SAT02_ARTERIAL_DIFF</th>\n",
              "      <th>SAT02_VENOUS_MEDIAN</th>\n",
              "      <th>SAT02_VENOUS_DIFF</th>\n",
              "      <th>SODIUM_MEDIAN</th>\n",
              "      <th>SODIUM_DIFF</th>\n",
              "      <th>TGO_MEDIAN</th>\n",
              "      <th>TGO_DIFF</th>\n",
              "      <th>TGP_MEDIAN</th>\n",
              "      <th>TGP_DIFF</th>\n",
              "      <th>TTPA_MEDIAN</th>\n",
              "      <th>TTPA_DIFF</th>\n",
              "      <th>UREA_MEDIAN</th>\n",
              "      <th>UREA_DIFF</th>\n",
              "      <th>DIMER_MEDIAN</th>\n",
              "      <th>DIMER_DIFF</th>\n",
              "      <th>BLOODPRESSURE_DIASTOLIC_MEAN</th>\n",
              "      <th>BLOODPRESSURE_SISTOLIC_MEAN</th>\n",
              "      <th>HEART_RATE_MEAN</th>\n",
              "      <th>RESPIRATORY_RATE_MEAN</th>\n",
              "      <th>TEMPERATURE_MEAN</th>\n",
              "      <th>OXYGEN_SATURATION_MEAN</th>\n",
              "      <th>RESPIRATORY_RATE_MIN</th>\n",
              "      <th>BLOODPRESSURE_DIASTOLIC_MAX</th>\n",
              "      <th>BLOODPRESSURE_DIASTOLIC_DIFF</th>\n",
              "      <th>BLOODPRESSURE_SISTOLIC_DIFF</th>\n",
              "      <th>HEART_RATE_DIFF</th>\n",
              "      <th>RESPIRATORY_RATE_DIFF</th>\n",
              "      <th>TEMPERATURE_DIFF</th>\n",
              "      <th>OXYGEN_SATURATION_DIFF</th>\n",
              "      <th>HEART_RATE_DIFF_REL</th>\n",
              "      <th>WINDOW</th>\n",
              "      <th>ICU</th>\n",
              "    </tr>\n",
              "  </thead>\n",
              "  <tbody>\n",
              "    <tr>\n",
              "      <th>0</th>\n",
              "      <td>1</td>\n",
              "      <td>5</td>\n",
              "      <td>0</td>\n",
              "      <td>0.0</td>\n",
              "      <td>0.0</td>\n",
              "      <td>0.0</td>\n",
              "      <td>0.0</td>\n",
              "      <td>1.0</td>\n",
              "      <td>1.0</td>\n",
              "      <td>0.0</td>\n",
              "      <td>0.0</td>\n",
              "      <td>1.0</td>\n",
              "      <td>0.605263</td>\n",
              "      <td>-1.0</td>\n",
              "      <td>-1.0</td>\n",
              "      <td>-1.0</td>\n",
              "      <td>-1.0</td>\n",
              "      <td>-1.0</td>\n",
              "      <td>-0.317073</td>\n",
              "      <td>-1.0</td>\n",
              "      <td>-0.317073</td>\n",
              "      <td>-1.0</td>\n",
              "      <td>-0.938950</td>\n",
              "      <td>-1.0</td>\n",
              "      <td>-1.0</td>\n",
              "      <td>-1.0</td>\n",
              "      <td>0.183673</td>\n",
              "      <td>-1.0</td>\n",
              "      <td>-0.868365</td>\n",
              "      <td>-1.0</td>\n",
              "      <td>-0.742004</td>\n",
              "      <td>-1.0</td>\n",
              "      <td>-0.945093</td>\n",
              "      <td>-1.0</td>\n",
              "      <td>-0.891993</td>\n",
              "      <td>-1.0</td>\n",
              "      <td>0.090147</td>\n",
              "      <td>-1.0</td>\n",
              "      <td>-1.0</td>\n",
              "      <td>-0.932246</td>\n",
              "      <td>...</td>\n",
              "      <td>-1.0</td>\n",
              "      <td>0.363636</td>\n",
              "      <td>-1.0</td>\n",
              "      <td>-0.540721</td>\n",
              "      <td>-1.0</td>\n",
              "      <td>-0.518519</td>\n",
              "      <td>-1.0</td>\n",
              "      <td>0.939394</td>\n",
              "      <td>-1.0</td>\n",
              "      <td>0.345679</td>\n",
              "      <td>-1.0</td>\n",
              "      <td>-0.028571</td>\n",
              "      <td>-1.0</td>\n",
              "      <td>-0.997201</td>\n",
              "      <td>-1.0</td>\n",
              "      <td>-0.990854</td>\n",
              "      <td>-1.0</td>\n",
              "      <td>-0.825613</td>\n",
              "      <td>-1.0</td>\n",
              "      <td>-0.836145</td>\n",
              "      <td>-1.0</td>\n",
              "      <td>-0.994912</td>\n",
              "      <td>-1.0</td>\n",
              "      <td>0.086420</td>\n",
              "      <td>-0.230769</td>\n",
              "      <td>-0.283019</td>\n",
              "      <td>-0.593220</td>\n",
              "      <td>-0.285714</td>\n",
              "      <td>0.736842</td>\n",
              "      <td>-0.500000</td>\n",
              "      <td>-0.247863</td>\n",
              "      <td>-1.000000</td>\n",
              "      <td>-1.000000</td>\n",
              "      <td>-1.000000</td>\n",
              "      <td>-1.000000</td>\n",
              "      <td>-1.000000</td>\n",
              "      <td>-1.000000</td>\n",
              "      <td>-1.000000</td>\n",
              "      <td>0-2</td>\n",
              "      <td>1</td>\n",
              "    </tr>\n",
              "    <tr>\n",
              "      <th>1</th>\n",
              "      <td>0</td>\n",
              "      <td>0</td>\n",
              "      <td>0</td>\n",
              "      <td>0.0</td>\n",
              "      <td>0.0</td>\n",
              "      <td>0.0</td>\n",
              "      <td>0.0</td>\n",
              "      <td>0.0</td>\n",
              "      <td>0.0</td>\n",
              "      <td>0.0</td>\n",
              "      <td>0.0</td>\n",
              "      <td>1.0</td>\n",
              "      <td>0.605263</td>\n",
              "      <td>-1.0</td>\n",
              "      <td>-1.0</td>\n",
              "      <td>-1.0</td>\n",
              "      <td>-1.0</td>\n",
              "      <td>-1.0</td>\n",
              "      <td>-0.317073</td>\n",
              "      <td>-1.0</td>\n",
              "      <td>-0.317073</td>\n",
              "      <td>-1.0</td>\n",
              "      <td>-0.938950</td>\n",
              "      <td>-1.0</td>\n",
              "      <td>-1.0</td>\n",
              "      <td>-1.0</td>\n",
              "      <td>0.357143</td>\n",
              "      <td>-1.0</td>\n",
              "      <td>-0.912243</td>\n",
              "      <td>-1.0</td>\n",
              "      <td>-0.742004</td>\n",
              "      <td>-1.0</td>\n",
              "      <td>-0.958528</td>\n",
              "      <td>-1.0</td>\n",
              "      <td>-0.780261</td>\n",
              "      <td>-1.0</td>\n",
              "      <td>0.144654</td>\n",
              "      <td>-1.0</td>\n",
              "      <td>-1.0</td>\n",
              "      <td>-0.959849</td>\n",
              "      <td>...</td>\n",
              "      <td>-1.0</td>\n",
              "      <td>0.363636</td>\n",
              "      <td>-1.0</td>\n",
              "      <td>-0.399199</td>\n",
              "      <td>-1.0</td>\n",
              "      <td>-0.703704</td>\n",
              "      <td>-1.0</td>\n",
              "      <td>0.939394</td>\n",
              "      <td>-1.0</td>\n",
              "      <td>0.345679</td>\n",
              "      <td>-1.0</td>\n",
              "      <td>0.085714</td>\n",
              "      <td>-1.0</td>\n",
              "      <td>-0.995428</td>\n",
              "      <td>-1.0</td>\n",
              "      <td>-0.986662</td>\n",
              "      <td>-1.0</td>\n",
              "      <td>-0.846633</td>\n",
              "      <td>-1.0</td>\n",
              "      <td>-0.836145</td>\n",
              "      <td>-1.0</td>\n",
              "      <td>-0.978029</td>\n",
              "      <td>-1.0</td>\n",
              "      <td>-0.489712</td>\n",
              "      <td>-0.685470</td>\n",
              "      <td>-0.048218</td>\n",
              "      <td>-0.645951</td>\n",
              "      <td>0.357143</td>\n",
              "      <td>0.935673</td>\n",
              "      <td>-0.714286</td>\n",
              "      <td>-0.435897</td>\n",
              "      <td>-0.547826</td>\n",
              "      <td>-0.533742</td>\n",
              "      <td>-0.603053</td>\n",
              "      <td>-0.764706</td>\n",
              "      <td>-1.000000</td>\n",
              "      <td>-0.959596</td>\n",
              "      <td>-0.747001</td>\n",
              "      <td>0-2</td>\n",
              "      <td>1</td>\n",
              "    </tr>\n",
              "    <tr>\n",
              "      <th>2</th>\n",
              "      <td>0</td>\n",
              "      <td>3</td>\n",
              "      <td>1</td>\n",
              "      <td>0.0</td>\n",
              "      <td>0.0</td>\n",
              "      <td>0.0</td>\n",
              "      <td>0.0</td>\n",
              "      <td>0.0</td>\n",
              "      <td>0.0</td>\n",
              "      <td>0.0</td>\n",
              "      <td>1.0</td>\n",
              "      <td>1.0</td>\n",
              "      <td>-0.263158</td>\n",
              "      <td>-1.0</td>\n",
              "      <td>-1.0</td>\n",
              "      <td>-1.0</td>\n",
              "      <td>-1.0</td>\n",
              "      <td>-1.0</td>\n",
              "      <td>-0.317073</td>\n",
              "      <td>-1.0</td>\n",
              "      <td>-0.317073</td>\n",
              "      <td>-1.0</td>\n",
              "      <td>-0.972789</td>\n",
              "      <td>-1.0</td>\n",
              "      <td>-1.0</td>\n",
              "      <td>-1.0</td>\n",
              "      <td>0.326531</td>\n",
              "      <td>-1.0</td>\n",
              "      <td>-0.968861</td>\n",
              "      <td>-1.0</td>\n",
              "      <td>-0.194030</td>\n",
              "      <td>-1.0</td>\n",
              "      <td>-0.316589</td>\n",
              "      <td>-1.0</td>\n",
              "      <td>-0.891993</td>\n",
              "      <td>-1.0</td>\n",
              "      <td>-0.203354</td>\n",
              "      <td>-1.0</td>\n",
              "      <td>-1.0</td>\n",
              "      <td>-0.959849</td>\n",
              "      <td>...</td>\n",
              "      <td>-1.0</td>\n",
              "      <td>0.363636</td>\n",
              "      <td>-1.0</td>\n",
              "      <td>-0.564753</td>\n",
              "      <td>-1.0</td>\n",
              "      <td>-0.777778</td>\n",
              "      <td>-1.0</td>\n",
              "      <td>0.939394</td>\n",
              "      <td>-1.0</td>\n",
              "      <td>0.580247</td>\n",
              "      <td>-1.0</td>\n",
              "      <td>0.200000</td>\n",
              "      <td>-1.0</td>\n",
              "      <td>-0.989549</td>\n",
              "      <td>-1.0</td>\n",
              "      <td>-0.956555</td>\n",
              "      <td>-1.0</td>\n",
              "      <td>-0.846633</td>\n",
              "      <td>-1.0</td>\n",
              "      <td>-0.937349</td>\n",
              "      <td>-1.0</td>\n",
              "      <td>-0.978029</td>\n",
              "      <td>-1.0</td>\n",
              "      <td>0.012346</td>\n",
              "      <td>-0.369231</td>\n",
              "      <td>-0.528302</td>\n",
              "      <td>-0.457627</td>\n",
              "      <td>-0.285714</td>\n",
              "      <td>0.684211</td>\n",
              "      <td>-0.357143</td>\n",
              "      <td>-0.299145</td>\n",
              "      <td>-1.000000</td>\n",
              "      <td>-1.000000</td>\n",
              "      <td>-1.000000</td>\n",
              "      <td>-1.000000</td>\n",
              "      <td>-1.000000</td>\n",
              "      <td>-1.000000</td>\n",
              "      <td>-1.000000</td>\n",
              "      <td>0-2</td>\n",
              "      <td>0</td>\n",
              "    </tr>\n",
              "    <tr>\n",
              "      <th>3</th>\n",
              "      <td>0</td>\n",
              "      <td>0</td>\n",
              "      <td>0</td>\n",
              "      <td>0.0</td>\n",
              "      <td>0.0</td>\n",
              "      <td>0.0</td>\n",
              "      <td>0.0</td>\n",
              "      <td>0.0</td>\n",
              "      <td>0.0</td>\n",
              "      <td>0.0</td>\n",
              "      <td>0.0</td>\n",
              "      <td>1.0</td>\n",
              "      <td>0.605263</td>\n",
              "      <td>-1.0</td>\n",
              "      <td>-1.0</td>\n",
              "      <td>-1.0</td>\n",
              "      <td>-1.0</td>\n",
              "      <td>-1.0</td>\n",
              "      <td>-0.317073</td>\n",
              "      <td>-1.0</td>\n",
              "      <td>-0.317073</td>\n",
              "      <td>-1.0</td>\n",
              "      <td>-0.935113</td>\n",
              "      <td>-1.0</td>\n",
              "      <td>-1.0</td>\n",
              "      <td>-1.0</td>\n",
              "      <td>0.357143</td>\n",
              "      <td>-1.0</td>\n",
              "      <td>-0.913659</td>\n",
              "      <td>-1.0</td>\n",
              "      <td>-0.829424</td>\n",
              "      <td>-1.0</td>\n",
              "      <td>-0.938084</td>\n",
              "      <td>-1.0</td>\n",
              "      <td>-0.851024</td>\n",
              "      <td>-1.0</td>\n",
              "      <td>0.358491</td>\n",
              "      <td>-1.0</td>\n",
              "      <td>-1.0</td>\n",
              "      <td>-0.959849</td>\n",
              "      <td>...</td>\n",
              "      <td>-1.0</td>\n",
              "      <td>0.363636</td>\n",
              "      <td>-1.0</td>\n",
              "      <td>-0.457944</td>\n",
              "      <td>-1.0</td>\n",
              "      <td>-0.592593</td>\n",
              "      <td>-1.0</td>\n",
              "      <td>0.939394</td>\n",
              "      <td>-1.0</td>\n",
              "      <td>0.345679</td>\n",
              "      <td>-1.0</td>\n",
              "      <td>0.142857</td>\n",
              "      <td>-1.0</td>\n",
              "      <td>-0.998507</td>\n",
              "      <td>-1.0</td>\n",
              "      <td>-0.991235</td>\n",
              "      <td>-1.0</td>\n",
              "      <td>-0.846633</td>\n",
              "      <td>-1.0</td>\n",
              "      <td>-0.903614</td>\n",
              "      <td>-1.0</td>\n",
              "      <td>-1.000000</td>\n",
              "      <td>-1.0</td>\n",
              "      <td>0.333333</td>\n",
              "      <td>-0.153846</td>\n",
              "      <td>0.160377</td>\n",
              "      <td>-0.593220</td>\n",
              "      <td>0.285714</td>\n",
              "      <td>0.868421</td>\n",
              "      <td>-0.571429</td>\n",
              "      <td>-0.076923</td>\n",
              "      <td>-1.000000</td>\n",
              "      <td>-0.877301</td>\n",
              "      <td>-0.923664</td>\n",
              "      <td>-0.882353</td>\n",
              "      <td>-0.952381</td>\n",
              "      <td>-0.979798</td>\n",
              "      <td>-0.956805</td>\n",
              "      <td>0-2</td>\n",
              "      <td>0</td>\n",
              "    </tr>\n",
              "    <tr>\n",
              "      <th>4</th>\n",
              "      <td>0</td>\n",
              "      <td>0</td>\n",
              "      <td>0</td>\n",
              "      <td>0.0</td>\n",
              "      <td>0.0</td>\n",
              "      <td>0.0</td>\n",
              "      <td>0.0</td>\n",
              "      <td>0.0</td>\n",
              "      <td>0.0</td>\n",
              "      <td>0.0</td>\n",
              "      <td>0.0</td>\n",
              "      <td>1.0</td>\n",
              "      <td>0.605263</td>\n",
              "      <td>-1.0</td>\n",
              "      <td>-1.0</td>\n",
              "      <td>-1.0</td>\n",
              "      <td>-1.0</td>\n",
              "      <td>-1.0</td>\n",
              "      <td>-0.317073</td>\n",
              "      <td>-1.0</td>\n",
              "      <td>-0.317073</td>\n",
              "      <td>-1.0</td>\n",
              "      <td>-0.938950</td>\n",
              "      <td>-1.0</td>\n",
              "      <td>-1.0</td>\n",
              "      <td>-1.0</td>\n",
              "      <td>0.357143</td>\n",
              "      <td>-1.0</td>\n",
              "      <td>-0.891012</td>\n",
              "      <td>-1.0</td>\n",
              "      <td>-0.742004</td>\n",
              "      <td>-1.0</td>\n",
              "      <td>-0.958528</td>\n",
              "      <td>-1.0</td>\n",
              "      <td>-0.891993</td>\n",
              "      <td>-1.0</td>\n",
              "      <td>0.291405</td>\n",
              "      <td>-1.0</td>\n",
              "      <td>-1.0</td>\n",
              "      <td>-0.959849</td>\n",
              "      <td>...</td>\n",
              "      <td>-1.0</td>\n",
              "      <td>0.363636</td>\n",
              "      <td>-1.0</td>\n",
              "      <td>-0.292390</td>\n",
              "      <td>-1.0</td>\n",
              "      <td>-0.666667</td>\n",
              "      <td>-1.0</td>\n",
              "      <td>0.939394</td>\n",
              "      <td>-1.0</td>\n",
              "      <td>0.345679</td>\n",
              "      <td>-1.0</td>\n",
              "      <td>0.085714</td>\n",
              "      <td>-1.0</td>\n",
              "      <td>-0.997947</td>\n",
              "      <td>-1.0</td>\n",
              "      <td>-0.988948</td>\n",
              "      <td>-1.0</td>\n",
              "      <td>-0.846633</td>\n",
              "      <td>-1.0</td>\n",
              "      <td>-0.884337</td>\n",
              "      <td>-1.0</td>\n",
              "      <td>-1.000000</td>\n",
              "      <td>-1.0</td>\n",
              "      <td>-0.037037</td>\n",
              "      <td>-0.538462</td>\n",
              "      <td>-0.537736</td>\n",
              "      <td>-0.525424</td>\n",
              "      <td>-0.196429</td>\n",
              "      <td>0.815789</td>\n",
              "      <td>-0.428571</td>\n",
              "      <td>-0.247863</td>\n",
              "      <td>-0.826087</td>\n",
              "      <td>-0.754601</td>\n",
              "      <td>-0.984733</td>\n",
              "      <td>-1.000000</td>\n",
              "      <td>-0.976190</td>\n",
              "      <td>-0.979798</td>\n",
              "      <td>-0.986481</td>\n",
              "      <td>0-2</td>\n",
              "      <td>0</td>\n",
              "    </tr>\n",
              "  </tbody>\n",
              "</table>\n",
              "<p>5 rows × 99 columns</p>\n",
              "</div>"
            ],
            "text/plain": [
              "   AGE_ABOVE65  AGE_PERCENTIL  GENDER  ...  HEART_RATE_DIFF_REL  WINDOW  ICU\n",
              "0            1              5       0  ...            -1.000000     0-2    1\n",
              "1            0              0       0  ...            -0.747001     0-2    1\n",
              "2            0              3       1  ...            -1.000000     0-2    0\n",
              "3            0              0       0  ...            -0.956805     0-2    0\n",
              "4            0              0       0  ...            -0.986481     0-2    0\n",
              "\n",
              "[5 rows x 99 columns]"
            ]
          },
          "metadata": {},
          "execution_count": 13
        }
      ]
    },
    {
      "cell_type": "code",
      "metadata": {
        "id": "Vhe35rQKfW5N"
      },
      "source": [
        "#Saving the values in the dependent (y) and independent variable (x)\n",
        "x = data.drop(['ICU','WINDOW'], axis=1) \n",
        "y= data['ICU']"
      ],
      "execution_count": 14,
      "outputs": []
    },
    {
      "cell_type": "markdown",
      "metadata": {
        "id": "vdOXfsG-hnoL"
      },
      "source": [
        "Now that the data is ready, the prediction models using different techniques will be shown below."
      ]
    },
    {
      "cell_type": "markdown",
      "metadata": {
        "id": "HQNqbu1WWh-7"
      },
      "source": [
        "In this project the following models are going to be used:\n",
        "\n",
        "*   Decision Tree\n",
        "*   Logistic Regression\n",
        "*   Random Forest\n",
        "\n"
      ]
    },
    {
      "cell_type": "markdown",
      "metadata": {
        "id": "KlV6koO4Xsb2"
      },
      "source": [
        "##1.1 Decision Tree Classifier"
      ]
    },
    {
      "cell_type": "markdown",
      "metadata": {
        "id": "7i71jqyoYePk"
      },
      "source": [
        "**Description** - The decision tree is one predictive modelling approach that goes from observations about an item (represented in the branches) to conclusions about the item's target value (represented in the leaves)."
      ]
    },
    {
      "cell_type": "markdown",
      "metadata": {
        "id": "SvNwtp-9aYVr"
      },
      "source": [
        "We are going to use the following parameters of the model:\n",
        "\n",
        "*   criterion - The function to measure the quality of a split. Supported criteria are “gini” for the Gini impurity and “entropy” for the information gain\n",
        "\n",
        "*   splitter: The strategy used to choose the split at each node. Supported strategies are “best” to choose the best split and “random” to choose the best random split.\n",
        "\n",
        "*   splitter: The maximum depth of the tree.\n",
        "\n",
        "Since each parameter can receive different values, a test to choose which values are better is going to be used. For this reason, the grid_search_cv function is going to be used. The function will return the best values for each parameter based on the input of a dictionary.  "
      ]
    },
    {
      "cell_type": "code",
      "metadata": {
        "colab": {
          "base_uri": "https://localhost:8080/"
        },
        "id": "F1L5eMPWXszk",
        "outputId": "82110269-118e-49f6-f113-0e9ece36e07a"
      },
      "source": [
        "parameters_DT = {\"criterion\":['gini','entropy'],\n",
        "                 \"splitter\":['best','random'],\n",
        "                 \"max_depth\":[1,2,3,4,5] }\n",
        "\n",
        "test_model_DT = DecisionTreeClassifier()\n",
        "\n",
        "grid_search_cv(parameters_DT,test_model_DT, data)"
      ],
      "execution_count": 15,
      "outputs": [
        {
          "output_type": "execute_result",
          "data": {
            "text/plain": [
              "{'criterion': 'gini', 'max_depth': 2, 'splitter': 'best'}"
            ]
          },
          "metadata": {},
          "execution_count": 15
        }
      ]
    },
    {
      "cell_type": "markdown",
      "metadata": {
        "id": "aCMyEbzDaolX"
      },
      "source": [
        "Considering the results, the following values are going to be used in the model.\n",
        "\n",
        "criterion -> entropy\n",
        "\n",
        "splitter  -> random\n",
        "\n",
        "max_depth -> 4\n",
        "\n"
      ]
    },
    {
      "cell_type": "code",
      "metadata": {
        "colab": {
          "base_uri": "https://localhost:8080/"
        },
        "id": "ZO1Yi_nQXs2n",
        "outputId": "006df994-0a00-40fa-a4bb-c4410a5c58fd"
      },
      "source": [
        "#Decision tree model\n",
        "model_DT, predict_DT = decision_tree_model(data, criterion='entropy' , max_depth=4, splitter='random')\n",
        "\n",
        "#model accuracy\n",
        "accuracy(data,model_DT,'Decision Tree')"
      ],
      "execution_count": 16,
      "outputs": [
        {
          "output_type": "stream",
          "name": "stdout",
          "text": [
            "The accuracy of the Decision Tree model is: 61.97% \n"
          ]
        }
      ]
    },
    {
      "cell_type": "code",
      "metadata": {
        "colab": {
          "base_uri": "https://localhost:8080/",
          "height": 551
        },
        "id": "JoCYWm6zXs56",
        "outputId": "a2dd5ce0-c96b-4725-e248-d2176ddb92ab"
      },
      "source": [
        "confusion_matrix_plot(model_DT, 'Decision Tree', data)"
      ],
      "execution_count": 17,
      "outputs": [
        {
          "output_type": "display_data",
          "data": {
            "image/png": "[encoded data removed]",
            "text/plain": [
              "<Figure size 720x720 with 1 Axes>"
            ]
          },
          "metadata": {}
        }
      ]
    },
    {
      "cell_type": "markdown",
      "metadata": {
        "id": "bOXzHhWDdqcm"
      },
      "source": [
        "According to the confusion matrix, we have the following results.\n",
        "\n",
        "True positive (TP)  -  0.73 patients that really needed to go the the ICU\n",
        "\n",
        "true negative (TN)  -  0.53 patients patients that didn't need to go to the ICU\n",
        "\n",
        "False positive (FP) -  0.47 patients didn't need to go, but they went to the ICU\n",
        "\n",
        "False negative (FN) -  0.27 patients needed to go, but that didn`t go\n"
      ]
    },
    {
      "cell_type": "markdown",
      "metadata": {
        "id": "ci1Bw13_kVFF"
      },
      "source": [
        "The decision tree model predicted correctly that 73% of the patients needed to go to the ICU and 53% of the patients didn't need the ICU support. Since this model is being used to predict something related to the lives of people, the values of false negatives (27%) and false positives (27%) are not a good. The values are so high, especially for the FN because having a 27% chance of not giving the ICU support to a patient that actually needs this support is a huge risk for this patient's life.\n",
        "\n"
      ]
    },
    {
      "cell_type": "code",
      "metadata": {
        "colab": {
          "base_uri": "https://localhost:8080/"
        },
        "id": "SiYtTxZbXs9B",
        "outputId": "04e1c1b3-fda1-4723-c47d-8eeede6f96b9"
      },
      "source": [
        "run_model(data, model_DT)"
      ],
      "execution_count": 18,
      "outputs": [
        {
          "output_type": "stream",
          "name": "stdout",
          "text": [
            "AUC = 0.6590909090909091\n",
            "\n",
            "Classification Report\n",
            "              precision    recall  f1-score   support\n",
            "\n",
            "           0       0.69      0.53      0.60        38\n",
            "           1       0.57      0.73      0.64        33\n",
            "\n",
            "    accuracy                           0.62        71\n",
            "   macro avg       0.63      0.63      0.62        71\n",
            "weighted avg       0.63      0.62      0.62        71\n",
            "\n"
          ]
        }
      ]
    },
    {
      "cell_type": "markdown",
      "metadata": {
        "id": "gkign6YxnAXO"
      },
      "source": [
        "To be able to interpret the results, it is necessary to define the concepts of the metrics used in the classification report. This definition will be used through all the models in this project. As Shivam Kohli defines [3],\n",
        "\n",
        "\n",
        "\n",
        "The classification report presents a summary of different ways to measure the  quality of predictions from a specific classification algorithm. The classification report visualizer displays the precision, recall, F1, and support scores for the model. \n",
        "\n",
        "\n",
        "*   Precision is the ability of a classifier not to label an instance positive that is actually negative. For each class, it is defined as the ratio of true positives to the sum of a true positive and false positive.\n",
        "*  Recall is the ability of a classifier to find all positive instances. For each class it is defined as the ratio of true positives to the sum of true positives and false negatives.\n",
        "*  The F1 score is a weighted harmonic mean of precision and recall such that the best score is 1.0 and the worst is 0.0. F1 scores are lower than accuracy measures as they embed precision and recall into their computation. As a rule of thumb, the weighted average of F1 should be used to compare classifier models, not global accuracy. \n"
      ]
    },
    {
      "cell_type": "code",
      "metadata": {
        "colab": {
          "base_uri": "https://localhost:8080/",
          "height": 648
        },
        "id": "u2usNr0Fjuxg",
        "outputId": "40272fae-d028-4a21-fd65-d8b53407a487"
      },
      "source": [
        "roc_plot(model_DT, 'Decision Tree', data)"
      ],
      "execution_count": 19,
      "outputs": [
        {
          "output_type": "display_data",
          "data": {
            "image/png": "[encoded data removed]",
            "text/plain": [
              "<Figure size 720x720 with 1 Axes>"
            ]
          },
          "metadata": {}
        }
      ]
    },
    {
      "cell_type": "code",
      "metadata": {
        "colab": {
          "base_uri": "https://localhost:8080/"
        },
        "id": "I-xQavqSXs_-",
        "outputId": "02422346-5fd7-4f48-cae6-4077c36fc105"
      },
      "source": [
        "run_model_cv(model_DT, data, n_splits=5, n_repeats=10)"
      ],
      "execution_count": 21,
      "outputs": [
        {
          "output_type": "stream",
          "name": "stdout",
          "text": [
            "AUC TEST = 0.6791793692616062 --- AUC TRAIN = 0.8300472217082724\n"
          ]
        },
        {
          "output_type": "execute_result",
          "data": {
            "text/plain": [
              "(0.6791793692616062, 0.8300472217082724)"
            ]
          },
          "metadata": {},
          "execution_count": 21
        }
      ]
    },
    {
      "cell_type": "markdown",
      "metadata": {
        "id": "El9Xaj-9ljSh"
      },
      "source": [
        "Finally, the reuslts of the model are \n",
        "\n",
        "AUC TEST: 0.68 | AUC TREINO: 0.83\n",
        "\n",
        "\n"
      ]
    },
    {
      "cell_type": "markdown",
      "metadata": {
        "id": "MAGwqeG4iIFC"
      },
      "source": [
        "##1.2 Logistic Regression"
      ]
    },
    {
      "cell_type": "markdown",
      "metadata": {
        "id": "-pLgxOXGu9nP"
      },
      "source": [
        "**Description** - Logistic regression is a statistical model that in its basic form uses a logistic function to model a binary dependent variable."
      ]
    },
    {
      "cell_type": "markdown",
      "metadata": {
        "id": "1z6m6UV3u9nP"
      },
      "source": [
        "We are going to use the following parameters of the model:\n",
        "\n",
        "*   penalty: Used to specify the norm used in the penalization.\n",
        "\n",
        "*   C: Inverse of regularization strength; must be a positive float.\n",
        "\n",
        "*   solver: Algorithm to use in the optimization problem\n",
        "\n",
        "*   max_iter: Maximum number of iterations taken for the solvers to converge.\n",
        "\n",
        "*   multi_class: If the option chosen is ‘ovr’, then a binary problem is fit for each label. For ‘multinomial’ the loss minimised is the multinomial loss fit across the entire probability distribution, even when the data is binary. ‘multinomial’ is unavailable when solver=’liblinear’. ‘auto’ selects ‘ovr’ if the data is binary, or if solver=’liblinear’, and otherwise selects ‘multinomial’.\n",
        "\n",
        "Since each parameter can receive different values, a test to choose which values are better is going to be used. For this reason, the grid_search_cv function is going to be used. The function will return the best values for each parameter based on the input of a dictionary.  \n"
      ]
    },
    {
      "cell_type": "code",
      "metadata": {
        "id": "GuEpbZnOwXbN"
      },
      "source": [
        "parameters_LR = {\"penalty\":['l1','l2','elasticnet','none'],\n",
        "                 \"C\":[1.0,2.0,3.0,4.0,5.0,6.0],\n",
        "                 \"solver\":['newton-cg', 'lbfgs', 'liblinear', 'sag', 'saga'],\n",
        "                 \"max_iter\":[100,1000,10000,100000],\n",
        "                 \"multi_class\":['auto','ovr','multinomial']\n",
        "                 }\n",
        "\n",
        "test_model_LR = LogisticRegression()\n",
        "\n",
        "#grid_search_cv(parameters_LR,test_model_LR, data)"
      ],
      "execution_count": null,
      "outputs": []
    },
    {
      "cell_type": "markdown",
      "metadata": {
        "id": "mWwy85VR13vW"
      },
      "source": [
        "Considering the results, the following values are going to be used in the model.\n",
        "\n",
        "penalty ->  'l2'\n",
        "\n",
        "C -> 1.0\n",
        "\n",
        "solver -> 'newton-cg'\n",
        "\n",
        "max_iter -> 100\n",
        "\n",
        "multi_class -> 'auto'\n",
        "\n"
      ]
    },
    {
      "cell_type": "code",
      "metadata": {
        "colab": {
          "base_uri": "https://localhost:8080/"
        },
        "id": "Rfh83haghe_o",
        "outputId": "18579d22-43ed-4b0b-9eb9-eaf81571614c"
      },
      "source": [
        "#Logistic Regression model\n",
        "model_LR,predict_LR=logistic_regression_model(data,penalty='l2',c=1.0, solver='newton-cg', max_iter=100,multi_class='auto')\n",
        "\n",
        "\n",
        "#model accuracy\n",
        "accuracy(data,model_LR,'Logistic Regression')"
      ],
      "execution_count": 22,
      "outputs": [
        {
          "output_type": "stream",
          "name": "stdout",
          "text": [
            "The accuracy of the Logistic Regression model is: 70.42% \n"
          ]
        }
      ]
    },
    {
      "cell_type": "code",
      "metadata": {
        "colab": {
          "base_uri": "https://localhost:8080/",
          "height": 551
        },
        "id": "44BeqCfN3GU0",
        "outputId": "2664f98c-5f07-4075-f2ce-4a5e3db0ece7"
      },
      "source": [
        "confusion_matrix_plot(model_LR, 'Logistic Regression', data)"
      ],
      "execution_count": 23,
      "outputs": [
        {
          "output_type": "display_data",
          "data": {
            "image/png": "[encoded data removed]",
            "text/plain": [
              "<Figure size 720x720 with 1 Axes>"
            ]
          },
          "metadata": {}
        }
      ]
    },
    {
      "cell_type": "markdown",
      "metadata": {
        "id": "BEi0N7RV3UIU"
      },
      "source": [
        "According to the confusion matrix, we have the following results.\n",
        "\n",
        "True positive (TP) - 0.58 patients that really needed to go the the ICU\n",
        "\n",
        "true negative (TN) - 0.82 patients patients that didn't need to go to the ICU\n",
        "\n",
        "False positive (FP) - 0.18 patients didn't need to go, but they went to the ICU\n",
        "\n",
        "False negative (FN) - 0.42 patients needed to go, but that didn`t go"
      ]
    },
    {
      "cell_type": "markdown",
      "metadata": {
        "id": "0-pn7_7wqUFG"
      },
      "source": [
        "The logistic regression model predicted correctly 82% of patients that didn't need the ICU support. Although this is a great value, the percentage of patients that needed the ICU support and had the treatment was only 58%. \n",
        "\n",
        "Just like the decision tree model, the values of FP and FN for the logistic regression were so high, especially for the false negatives. The value of 42% is really serious, because it means that 42% of the patients that actually needed the ICU support were categorized as patientes that didn't need this support.\n"
      ]
    },
    {
      "cell_type": "code",
      "metadata": {
        "colab": {
          "base_uri": "https://localhost:8080/"
        },
        "id": "a9k3_nMZ-hO5",
        "outputId": "c6cfa30b-39b5-4385-8d1a-1346b8c73d4b"
      },
      "source": [
        "run_model(data, model_LR)\n"
      ],
      "execution_count": 24,
      "outputs": [
        {
          "output_type": "stream",
          "name": "stdout",
          "text": [
            "AUC = 0.7807017543859649\n",
            "\n",
            "Classification Report\n",
            "              precision    recall  f1-score   support\n",
            "\n",
            "           0       0.69      0.82      0.75        38\n",
            "           1       0.73      0.58      0.64        33\n",
            "\n",
            "    accuracy                           0.70        71\n",
            "   macro avg       0.71      0.70      0.70        71\n",
            "weighted avg       0.71      0.70      0.70        71\n",
            "\n"
          ]
        }
      ]
    },
    {
      "cell_type": "code",
      "metadata": {
        "colab": {
          "base_uri": "https://localhost:8080/",
          "height": 648
        },
        "id": "eiVEiC_w_9nG",
        "outputId": "d6a5e225-be51-444c-92ce-cade3d0bc718"
      },
      "source": [
        "roc_plot(model_LR, 'Logistic Regression', data)"
      ],
      "execution_count": 25,
      "outputs": [
        {
          "output_type": "display_data",
          "data": {
            "image/png": "[encoded data removed]",
            "text/plain": [
              "<Figure size 720x720 with 1 Axes>"
            ]
          },
          "metadata": {}
        }
      ]
    },
    {
      "cell_type": "code",
      "metadata": {
        "colab": {
          "base_uri": "https://localhost:8080/"
        },
        "id": "0DVH42-KDTF6",
        "outputId": "6adad26d-609f-4dbd-e314-734d60174906"
      },
      "source": [
        "run_model_cv(model_LR, data, n_splits=5, n_repeats=10)\n"
      ],
      "execution_count": 26,
      "outputs": [
        {
          "output_type": "stream",
          "name": "stdout",
          "text": [
            "AUC TEST = 0.7731730489460752 --- AUC TRAIN = 0.8492927587446916\n"
          ]
        },
        {
          "output_type": "execute_result",
          "data": {
            "text/plain": [
              "(0.7731730489460752, 0.8492927587446916)"
            ]
          },
          "metadata": {},
          "execution_count": 26
        }
      ]
    },
    {
      "cell_type": "markdown",
      "metadata": {
        "id": "OD7N9zH_cSRl"
      },
      "source": [
        "##1.3 Random Forest"
      ]
    },
    {
      "cell_type": "markdown",
      "metadata": {
        "id": "dQX9-tLXcg43"
      },
      "source": [
        "**Description** - A random forest is a meta estimator that fits a number of decision tree classifiers on various sub-samples of the dataset and uses averaging to improve the predictive accuracy and control over-fitting."
      ]
    },
    {
      "cell_type": "markdown",
      "metadata": {
        "id": "s30p9ZU3cg43"
      },
      "source": [
        "We are going to use the following parameters of the model:\n",
        "\n",
        "*   n_estimators: The number of trees in the forest\n",
        "\n",
        "*   criterion: The function to measure the quality of a split.\n",
        "\n",
        "*   max_depth: The maximum depth of the tree.\n",
        "\n",
        "*   min_samples_leaf: The minimum number of samples required to be at a leaf node.\n",
        "\n",
        "*   max_features: The number of features to consider when looking for the best split.\n",
        "\n",
        "*   min_impurity_decrease: A node will be split if this split induces a decrease of the impurity greater than or equal to this value.\n",
        "\n",
        "*   bootstrap: Whether bootstrap samples are used when building trees. \n",
        "\n",
        "*   oob_score: Whether to use out-of-bag samples to estimate the generalization score. Only available if bootstrap=True.\n",
        "\n",
        "Since each parameter can receive different values, a test to choose which values are better is going to be used. For this reason, the grid_search_cv function is going to be used. The function will return the best values for each parameter based on the input of a dictionary.  \n"
      ]
    },
    {
      "cell_type": "code",
      "metadata": {
        "id": "2ru3iwKfGjOF"
      },
      "source": [
        "parametros_RF = {\"n_estimators\": [100, 200, 500],\n",
        "               \"max_features\": [\"auto\", \"sqrt\", \"log2\"],\n",
        "               \"max_depth\": [2, 3, 4, 5, 6],\n",
        "               \"bootstrap\": [\"True\", \"False\"],\n",
        "               \"oob_score\": [\"True\", \"False\"],\n",
        "               \"criterion\" :[\"gini\", \"entropy\"],\n",
        "               \"min_samples_leaf\":[2,4,6,8,10],\n",
        "               'min_impurity_decrease':[0.0002,0.0004,0.006,0.008]}\n",
        "\n",
        "test_model_RF = RandomForestClassifier()\n",
        "\n",
        "#grid_search_cv(parametros_RF, test_model_RF, data)"
      ],
      "execution_count": null,
      "outputs": []
    },
    {
      "cell_type": "markdown",
      "metadata": {
        "id": "koIXu2WxfeYM"
      },
      "source": [
        "Considering the results, the following values are going to be used in the model.\n",
        "\n",
        "n_estimators ->  200\n",
        "\n",
        "max_features -> 'auto'\n",
        "\n",
        "max_depth -> 6\n",
        "\n",
        "bootstrap -> 'True'\n",
        "\n",
        "oob_score -> 'False'\n",
        "\n",
        "criterion -> 'gini'\n",
        "\n",
        "min_samples_leaf -> 2 \n",
        "\n",
        "min_impurity_decrease -> 0.0004 \n",
        "\n"
      ]
    },
    {
      "cell_type": "code",
      "metadata": {
        "colab": {
          "base_uri": "https://localhost:8080/"
        },
        "id": "je_n1vOGgjjg",
        "outputId": "3a22a43e-5827-4e15-a780-afc9c6d2ab5f"
      },
      "source": [
        "#Decision tree model\n",
        "model_RF, predict_RF = random_forest_model(data, n_est=200, max_feat='auto', max_depth=6, bootstrap='True', oob_score='False', criterion='gini', min_samples_leaf=2, min_impurity_decrease=0.0004)\n",
        "\n",
        "\n",
        "#model accuracy\n",
        "accuracy(data, model_RF,'Random Forest')"
      ],
      "execution_count": 27,
      "outputs": [
        {
          "output_type": "stream",
          "name": "stdout",
          "text": [
            "The accuracy of the Random Forest model is: 76.06% \n"
          ]
        }
      ]
    },
    {
      "cell_type": "code",
      "metadata": {
        "colab": {
          "base_uri": "https://localhost:8080/",
          "height": 551
        },
        "id": "kvML_qkkfeYM",
        "outputId": "a93c367e-b903-49ce-eeaa-aba9434ad715"
      },
      "source": [
        "confusion_matrix_plot(model_RF, 'Random Forest', data)"
      ],
      "execution_count": 28,
      "outputs": [
        {
          "output_type": "display_data",
          "data": {
            "image/png": "[encoded data removed]",
            "text/plain": [
              "<Figure size 720x720 with 1 Axes>"
            ]
          },
          "metadata": {}
        }
      ]
    },
    {
      "cell_type": "markdown",
      "metadata": {
        "id": "-1WAn9FGlG37"
      },
      "source": [
        "According to the confusion matrix, we have the following results.\n",
        "\n",
        "True positive (TP) - 0.61 patients that really needed to go the the ICU\n",
        "\n",
        "true negative (TN) - 0.89 patients patients that didn't need to go to the ICU\n",
        "\n",
        "False positive (FP) - 0.11 patients didn't need to go, but they went to the ICU\n",
        "\n",
        "False negative (FN) - 0.39 patients needed to go, but that didn`t go"
      ]
    },
    {
      "cell_type": "markdown",
      "metadata": {
        "id": "eKVtdOLhtcqX"
      },
      "source": [
        "Just like what happened with the previous models, the value of FN is really high, since the model is being used to predict something is related to peoples lives."
      ]
    },
    {
      "cell_type": "code",
      "metadata": {
        "colab": {
          "base_uri": "https://localhost:8080/"
        },
        "id": "-51UWHZ6GjOG",
        "outputId": "3529535d-fa0b-4688-b590-452f967403d7"
      },
      "source": [
        "run_model(data, model_RF)"
      ],
      "execution_count": 29,
      "outputs": [
        {
          "output_type": "stream",
          "name": "stdout",
          "text": [
            "AUC = 0.8110047846889952\n",
            "\n",
            "Classification Report\n",
            "              precision    recall  f1-score   support\n",
            "\n",
            "           0       0.72      0.89      0.80        38\n",
            "           1       0.83      0.61      0.70        33\n",
            "\n",
            "    accuracy                           0.76        71\n",
            "   macro avg       0.78      0.75      0.75        71\n",
            "weighted avg       0.77      0.76      0.75        71\n",
            "\n"
          ]
        }
      ]
    },
    {
      "cell_type": "code",
      "metadata": {
        "colab": {
          "base_uri": "https://localhost:8080/",
          "height": 648
        },
        "id": "NVYb48IXGjOH",
        "outputId": "555b8b99-d73b-4684-8d11-675fe39a8dc4"
      },
      "source": [
        "roc_plot(model_RF, 'Random Forest', data)"
      ],
      "execution_count": 30,
      "outputs": [
        {
          "output_type": "display_data",
          "data": {
            "image/png": "[encoded data removed]",
            "text/plain": [
              "<Figure size 720x720 with 1 Axes>"
            ]
          },
          "metadata": {}
        }
      ]
    },
    {
      "cell_type": "code",
      "metadata": {
        "colab": {
          "base_uri": "https://localhost:8080/"
        },
        "id": "xKkicvbQFYuW",
        "outputId": "79c3dfac-7071-478c-ffd6-98cf2c93918e"
      },
      "source": [
        "run_model_cv(model_RF, data, n_splits=5, n_repeats=10)"
      ],
      "execution_count": 31,
      "outputs": [
        {
          "output_type": "stream",
          "name": "stdout",
          "text": [
            "AUC TEST = 0.8080599513987673 --- AUC TRAIN = 0.9881305414736711\n"
          ]
        },
        {
          "output_type": "execute_result",
          "data": {
            "text/plain": [
              "(0.8080599513987673, 0.9881305414736711)"
            ]
          },
          "metadata": {},
          "execution_count": 31
        }
      ]
    },
    {
      "cell_type": "markdown",
      "metadata": {
        "id": "TVcwB1N7zRcr"
      },
      "source": [
        "#Conclusion\n",
        "\n",
        "Considering the models tested in this project, Decision Tree, Logistic Regression, and Random Forest, the best results were obtained with the **Random Forest Model**, which presented the  following values:\n",
        "\n",
        "```\n",
        "AUC TEST = 0.8080599513987673 --- AUC TRAIN = 0.9881305414736711\n",
        "(0.8080599513987673, 0.9881305414736711)\n",
        "\n",
        "Mean AUC = 0.8110047846889952\n",
        "\n",
        "Classification Report\n",
        "              precision    recall  f1-score   support\n",
        "\n",
        "           0       0.72      0.89      0.80        38\n",
        "           1       0.83      0.61      0.70        33\n",
        "\n",
        "    accuracy                           0.76        71\n",
        "   macro avg       0.78      0.75      0.75        71\n",
        "weighted avg       0.77      0.76      0.75        71\n",
        "\n",
        "```\n",
        "\n",
        "As a complement of this project, a good idea to improve the Random Forest model is trying to reduce the percentage of False Negatives presented in the Confusion Matrix. \n"
      ]
    },
    {
      "cell_type": "markdown",
      "metadata": {
        "id": "_L35SogAjEW5"
      },
      "source": [
        "##References\n"
      ]
    },
    {
      "cell_type": "markdown",
      "metadata": {
        "id": "X6rjZyoGjICY"
      },
      "source": [
        "[1] [Confusion matrix](https://en.wikipedia.org/wiki/Confusion_matrix)\n",
        "\n",
        "[2] [Understanding the Classification report through sklearn](https://muthu.co/understanding-the-classification-report-in-sklearn/)\n",
        "\n",
        "[3] [Understanding a Classification Report For Your Machine Learning Model](https://medium.com/@kohlishivam5522/understanding-a-classification-report-for-your-machine-learning-model-88815e2ce397)\n",
        "\n",
        "[4] [Understanding Confusion Matrix](https://towardsdatascience.com/understanding-auc-roc-curve-68b2303cc9c5)\n",
        "\n",
        "[5] [Understanding Confusion Matrix](https://towardsdatascience.com/understanding-confusion-matrix-a9ad42dcfd62)"
      ]
    }
  ]
}